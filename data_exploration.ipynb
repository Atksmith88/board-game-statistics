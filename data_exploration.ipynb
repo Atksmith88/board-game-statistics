{
 "cells": [
  {
   "cell_type": "markdown",
   "metadata": {},
   "source": [
    "# Data Exploration & Engineering\n",
    "\n",
    "### Library & Data Imports"
   ]
  },
  {
   "cell_type": "code",
   "execution_count": 1,
   "metadata": {},
   "outputs": [],
   "source": [
    "import warnings; warnings.simplefilter('ignore')\n",
    "import pandas as pd\n",
    "import numpy as np\n",
    "\n",
    "import matplotlib.pyplot as plt\n",
    "import seaborn as sns\n",
    "import scipy.stats as stats\n",
    "plt.style.use('ggplot')"
   ]
  },
  {
   "cell_type": "code",
   "execution_count": 2,
   "metadata": {},
   "outputs": [
    {
     "data": {
      "text/html": [
       "<div>\n",
       "<style scoped>\n",
       "    .dataframe tbody tr th:only-of-type {\n",
       "        vertical-align: middle;\n",
       "    }\n",
       "\n",
       "    .dataframe tbody tr th {\n",
       "        vertical-align: top;\n",
       "    }\n",
       "\n",
       "    .dataframe thead th {\n",
       "        text-align: right;\n",
       "    }\n",
       "</style>\n",
       "<table border=\"1\" class=\"dataframe\">\n",
       "  <thead>\n",
       "    <tr style=\"text-align: right;\">\n",
       "      <th></th>\n",
       "      <th>id</th>\n",
       "      <th>type</th>\n",
       "      <th>name</th>\n",
       "      <th>yearpublished</th>\n",
       "      <th>minplayers</th>\n",
       "      <th>maxplayers</th>\n",
       "      <th>playingtime</th>\n",
       "      <th>minplaytime</th>\n",
       "      <th>maxplaytime</th>\n",
       "      <th>minage</th>\n",
       "      <th>...</th>\n",
       "      <th>average_rating</th>\n",
       "      <th>bayes_average_rating</th>\n",
       "      <th>total_owners</th>\n",
       "      <th>total_traders</th>\n",
       "      <th>total_wanters</th>\n",
       "      <th>total_wishers</th>\n",
       "      <th>total_comments</th>\n",
       "      <th>total_weights</th>\n",
       "      <th>average_weight</th>\n",
       "      <th>meta</th>\n",
       "    </tr>\n",
       "  </thead>\n",
       "  <tbody>\n",
       "    <tr>\n",
       "      <th>0</th>\n",
       "      <td>228051</td>\n",
       "      <td>boardgame</td>\n",
       "      <td>Warhammer 40,000: Heroes of Black Reach</td>\n",
       "      <td>2018.0</td>\n",
       "      <td>2.0</td>\n",
       "      <td>2.0</td>\n",
       "      <td>120.0</td>\n",
       "      <td>30.0</td>\n",
       "      <td>120.0</td>\n",
       "      <td>14.0</td>\n",
       "      <td>...</td>\n",
       "      <td>7.63636</td>\n",
       "      <td>0.0</td>\n",
       "      <td>25</td>\n",
       "      <td>0</td>\n",
       "      <td>46</td>\n",
       "      <td>325</td>\n",
       "      <td>9</td>\n",
       "      <td>0</td>\n",
       "      <td>0.0</td>\n",
       "      <td>{'boardgameartist': 'Alexandre Bonvalot, Olivi...</td>\n",
       "    </tr>\n",
       "    <tr>\n",
       "      <th>1</th>\n",
       "      <td>89371</td>\n",
       "      <td>boardgame</td>\n",
       "      <td>The Russo-Georgian War of 2008</td>\n",
       "      <td>2010.0</td>\n",
       "      <td>1.0</td>\n",
       "      <td>2.0</td>\n",
       "      <td>90.0</td>\n",
       "      <td>90.0</td>\n",
       "      <td>90.0</td>\n",
       "      <td>12.0</td>\n",
       "      <td>...</td>\n",
       "      <td>7.22222</td>\n",
       "      <td>0.0</td>\n",
       "      <td>24</td>\n",
       "      <td>0</td>\n",
       "      <td>6</td>\n",
       "      <td>7</td>\n",
       "      <td>5</td>\n",
       "      <td>1</td>\n",
       "      <td>3.0</td>\n",
       "      <td>{'boardgameartist': 'Peter Schutze, Karin Stam...</td>\n",
       "    </tr>\n",
       "    <tr>\n",
       "      <th>2</th>\n",
       "      <td>89376</td>\n",
       "      <td>boardgame</td>\n",
       "      <td>Frher oder Spter</td>\n",
       "      <td>2009.0</td>\n",
       "      <td>2.0</td>\n",
       "      <td>5.0</td>\n",
       "      <td>30.0</td>\n",
       "      <td>30.0</td>\n",
       "      <td>30.0</td>\n",
       "      <td>8.0</td>\n",
       "      <td>...</td>\n",
       "      <td>4.50000</td>\n",
       "      <td>0.0</td>\n",
       "      <td>3</td>\n",
       "      <td>1</td>\n",
       "      <td>0</td>\n",
       "      <td>1</td>\n",
       "      <td>1</td>\n",
       "      <td>1</td>\n",
       "      <td>1.0</td>\n",
       "      <td>{'boardgamepublisher': 'Bundeszentrale für pol...</td>\n",
       "    </tr>\n",
       "    <tr>\n",
       "      <th>3</th>\n",
       "      <td>89378</td>\n",
       "      <td>boardgame</td>\n",
       "      <td>Supervivencia</td>\n",
       "      <td>1990.0</td>\n",
       "      <td>2.0</td>\n",
       "      <td>6.0</td>\n",
       "      <td>80.0</td>\n",
       "      <td>80.0</td>\n",
       "      <td>80.0</td>\n",
       "      <td>10.0</td>\n",
       "      <td>...</td>\n",
       "      <td>5.00000</td>\n",
       "      <td>0.0</td>\n",
       "      <td>0</td>\n",
       "      <td>0</td>\n",
       "      <td>0</td>\n",
       "      <td>1</td>\n",
       "      <td>1</td>\n",
       "      <td>1</td>\n",
       "      <td>2.0</td>\n",
       "      <td>{'boardgamepublisher': 'Plastigal Juegos SRL',...</td>\n",
       "    </tr>\n",
       "    <tr>\n",
       "      <th>4</th>\n",
       "      <td>232179</td>\n",
       "      <td>boardgame</td>\n",
       "      <td>Malware Containment (Malcon)</td>\n",
       "      <td>2017.0</td>\n",
       "      <td>4.0</td>\n",
       "      <td>5.0</td>\n",
       "      <td>60.0</td>\n",
       "      <td>30.0</td>\n",
       "      <td>60.0</td>\n",
       "      <td>13.0</td>\n",
       "      <td>...</td>\n",
       "      <td>0.00000</td>\n",
       "      <td>0.0</td>\n",
       "      <td>1</td>\n",
       "      <td>0</td>\n",
       "      <td>0</td>\n",
       "      <td>3</td>\n",
       "      <td>0</td>\n",
       "      <td>0</td>\n",
       "      <td>0.0</td>\n",
       "      <td>{'boardgameartist': 'Sho Aoki (青木 翔)', 'boardg...</td>\n",
       "    </tr>\n",
       "  </tbody>\n",
       "</table>\n",
       "<p>5 rows × 21 columns</p>\n",
       "</div>"
      ],
      "text/plain": [
       "       id       type                                     name  yearpublished  \\\n",
       "0  228051  boardgame  Warhammer 40,000: Heroes of Black Reach         2018.0   \n",
       "1   89371  boardgame           The Russo-Georgian War of 2008         2010.0   \n",
       "2   89376  boardgame                         Frher oder Spter         2009.0   \n",
       "3   89378  boardgame                            Supervivencia         1990.0   \n",
       "4  232179  boardgame             Malware Containment (Malcon)         2017.0   \n",
       "\n",
       "   minplayers  maxplayers  playingtime  minplaytime  maxplaytime  minage  ...  \\\n",
       "0         2.0         2.0        120.0         30.0        120.0    14.0  ...   \n",
       "1         1.0         2.0         90.0         90.0         90.0    12.0  ...   \n",
       "2         2.0         5.0         30.0         30.0         30.0     8.0  ...   \n",
       "3         2.0         6.0         80.0         80.0         80.0    10.0  ...   \n",
       "4         4.0         5.0         60.0         30.0         60.0    13.0  ...   \n",
       "\n",
       "   average_rating  bayes_average_rating  total_owners  total_traders  \\\n",
       "0         7.63636                   0.0            25              0   \n",
       "1         7.22222                   0.0            24              0   \n",
       "2         4.50000                   0.0             3              1   \n",
       "3         5.00000                   0.0             0              0   \n",
       "4         0.00000                   0.0             1              0   \n",
       "\n",
       "   total_wanters  total_wishers  total_comments  total_weights  \\\n",
       "0             46            325               9              0   \n",
       "1              6              7               5              1   \n",
       "2              0              1               1              1   \n",
       "3              0              1               1              1   \n",
       "4              0              3               0              0   \n",
       "\n",
       "   average_weight                                               meta  \n",
       "0             0.0  {'boardgameartist': 'Alexandre Bonvalot, Olivi...  \n",
       "1             3.0  {'boardgameartist': 'Peter Schutze, Karin Stam...  \n",
       "2             1.0  {'boardgamepublisher': 'Bundeszentrale für pol...  \n",
       "3             2.0  {'boardgamepublisher': 'Plastigal Juegos SRL',...  \n",
       "4             0.0  {'boardgameartist': 'Sho Aoki (青木 翔)', 'boardg...  \n",
       "\n",
       "[5 rows x 21 columns]"
      ]
     },
     "execution_count": 2,
     "metadata": {},
     "output_type": "execute_result"
    }
   ],
   "source": [
    "raw_data = pd.read_csv('games.csv')\n",
    "raw_data.head()"
   ]
  },
  {
   "cell_type": "code",
   "execution_count": 3,
   "metadata": {},
   "outputs": [
    {
     "data": {
      "text/plain": [
       "Index(['id', 'type', 'name', 'yearpublished', 'minplayers', 'maxplayers',\n",
       "       'playingtime', 'minplaytime', 'maxplaytime', 'minage', 'users_rated',\n",
       "       'average_rating', 'bayes_average_rating', 'total_owners',\n",
       "       'total_traders', 'total_wanters', 'total_wishers', 'total_comments',\n",
       "       'total_weights', 'average_weight', 'meta'],\n",
       "      dtype='object')"
      ]
     },
     "execution_count": 3,
     "metadata": {},
     "output_type": "execute_result"
    }
   ],
   "source": [
    "raw_data.columns"
   ]
  },
  {
   "cell_type": "code",
   "execution_count": 4,
   "metadata": {},
   "outputs": [
    {
     "data": {
      "text/html": [
       "<div>\n",
       "<style scoped>\n",
       "    .dataframe tbody tr th:only-of-type {\n",
       "        vertical-align: middle;\n",
       "    }\n",
       "\n",
       "    .dataframe tbody tr th {\n",
       "        vertical-align: top;\n",
       "    }\n",
       "\n",
       "    .dataframe thead th {\n",
       "        text-align: right;\n",
       "    }\n",
       "</style>\n",
       "<table border=\"1\" class=\"dataframe\">\n",
       "  <thead>\n",
       "    <tr style=\"text-align: right;\">\n",
       "      <th></th>\n",
       "      <th>id</th>\n",
       "      <th>yearpublished</th>\n",
       "      <th>minplayers</th>\n",
       "      <th>maxplayers</th>\n",
       "      <th>playingtime</th>\n",
       "      <th>minplaytime</th>\n",
       "      <th>maxplaytime</th>\n",
       "      <th>minage</th>\n",
       "      <th>users_rated</th>\n",
       "      <th>average_rating</th>\n",
       "      <th>bayes_average_rating</th>\n",
       "      <th>total_owners</th>\n",
       "      <th>total_traders</th>\n",
       "      <th>total_wanters</th>\n",
       "      <th>total_wishers</th>\n",
       "      <th>total_comments</th>\n",
       "      <th>total_weights</th>\n",
       "      <th>average_weight</th>\n",
       "    </tr>\n",
       "  </thead>\n",
       "  <tbody>\n",
       "    <tr>\n",
       "      <th>count</th>\n",
       "      <td>101375.000000</td>\n",
       "      <td>101372.000000</td>\n",
       "      <td>101372.000000</td>\n",
       "      <td>101372.000000</td>\n",
       "      <td>1.013720e+05</td>\n",
       "      <td>101372.000000</td>\n",
       "      <td>1.013720e+05</td>\n",
       "      <td>101372.000000</td>\n",
       "      <td>101375.000000</td>\n",
       "      <td>101375.000000</td>\n",
       "      <td>101375.000000</td>\n",
       "      <td>101375.000000</td>\n",
       "      <td>101375.000000</td>\n",
       "      <td>101375.000000</td>\n",
       "      <td>101375.000000</td>\n",
       "      <td>101375.000000</td>\n",
       "      <td>101375.000000</td>\n",
       "      <td>101375.000000</td>\n",
       "    </tr>\n",
       "    <tr>\n",
       "      <th>mean</th>\n",
       "      <td>105503.640158</td>\n",
       "      <td>1825.910064</td>\n",
       "      <td>1.978594</td>\n",
       "      <td>5.855285</td>\n",
       "      <td>8.735479e+01</td>\n",
       "      <td>46.361767</td>\n",
       "      <td>8.735479e+01</td>\n",
       "      <td>7.390532</td>\n",
       "      <td>138.234427</td>\n",
       "      <td>4.479398</td>\n",
       "      <td>1.206433</td>\n",
       "      <td>272.960404</td>\n",
       "      <td>8.561243</td>\n",
       "      <td>10.102244</td>\n",
       "      <td>40.458742</td>\n",
       "      <td>38.545125</td>\n",
       "      <td>9.849825</td>\n",
       "      <td>0.848633</td>\n",
       "    </tr>\n",
       "    <tr>\n",
       "      <th>std</th>\n",
       "      <td>81954.688618</td>\n",
       "      <td>566.193527</td>\n",
       "      <td>0.847856</td>\n",
       "      <td>50.706681</td>\n",
       "      <td>7.022972e+03</td>\n",
       "      <td>578.677406</td>\n",
       "      <td>7.022972e+03</td>\n",
       "      <td>10.278054</td>\n",
       "      <td>1208.193739</td>\n",
       "      <td>2.971204</td>\n",
       "      <td>2.339957</td>\n",
       "      <td>1755.161683</td>\n",
       "      <td>40.397130</td>\n",
       "      <td>52.444488</td>\n",
       "      <td>257.338270</td>\n",
       "      <td>253.506881</td>\n",
       "      <td>85.959765</td>\n",
       "      <td>1.147242</td>\n",
       "    </tr>\n",
       "    <tr>\n",
       "      <th>min</th>\n",
       "      <td>1.000000</td>\n",
       "      <td>-3500.000000</td>\n",
       "      <td>0.000000</td>\n",
       "      <td>0.000000</td>\n",
       "      <td>0.000000e+00</td>\n",
       "      <td>0.000000</td>\n",
       "      <td>0.000000e+00</td>\n",
       "      <td>0.000000</td>\n",
       "      <td>0.000000</td>\n",
       "      <td>0.000000</td>\n",
       "      <td>0.000000</td>\n",
       "      <td>0.000000</td>\n",
       "      <td>0.000000</td>\n",
       "      <td>0.000000</td>\n",
       "      <td>0.000000</td>\n",
       "      <td>0.000000</td>\n",
       "      <td>0.000000</td>\n",
       "      <td>0.000000</td>\n",
       "    </tr>\n",
       "    <tr>\n",
       "      <th>25%</th>\n",
       "      <td>27534.500000</td>\n",
       "      <td>1988.000000</td>\n",
       "      <td>2.000000</td>\n",
       "      <td>2.000000</td>\n",
       "      <td>6.000000e+00</td>\n",
       "      <td>10.000000</td>\n",
       "      <td>6.000000e+00</td>\n",
       "      <td>3.000000</td>\n",
       "      <td>0.000000</td>\n",
       "      <td>0.000000</td>\n",
       "      <td>0.000000</td>\n",
       "      <td>2.000000</td>\n",
       "      <td>0.000000</td>\n",
       "      <td>0.000000</td>\n",
       "      <td>1.000000</td>\n",
       "      <td>0.000000</td>\n",
       "      <td>0.000000</td>\n",
       "      <td>0.000000</td>\n",
       "    </tr>\n",
       "    <tr>\n",
       "      <th>50%</th>\n",
       "      <td>96866.000000</td>\n",
       "      <td>2007.000000</td>\n",
       "      <td>2.000000</td>\n",
       "      <td>4.000000</td>\n",
       "      <td>3.000000e+01</td>\n",
       "      <td>30.000000</td>\n",
       "      <td>3.000000e+01</td>\n",
       "      <td>8.000000</td>\n",
       "      <td>3.000000</td>\n",
       "      <td>5.500000</td>\n",
       "      <td>0.000000</td>\n",
       "      <td>9.000000</td>\n",
       "      <td>0.000000</td>\n",
       "      <td>0.000000</td>\n",
       "      <td>3.000000</td>\n",
       "      <td>2.000000</td>\n",
       "      <td>0.000000</td>\n",
       "      <td>0.000000</td>\n",
       "    </tr>\n",
       "    <tr>\n",
       "      <th>75%</th>\n",
       "      <td>175612.000000</td>\n",
       "      <td>2014.000000</td>\n",
       "      <td>2.000000</td>\n",
       "      <td>6.000000</td>\n",
       "      <td>6.000000e+01</td>\n",
       "      <td>60.000000</td>\n",
       "      <td>6.000000e+01</td>\n",
       "      <td>12.000000</td>\n",
       "      <td>20.000000</td>\n",
       "      <td>6.817115</td>\n",
       "      <td>0.000000</td>\n",
       "      <td>70.000000</td>\n",
       "      <td>3.000000</td>\n",
       "      <td>3.000000</td>\n",
       "      <td>11.000000</td>\n",
       "      <td>10.000000</td>\n",
       "      <td>2.000000</td>\n",
       "      <td>1.733300</td>\n",
       "    </tr>\n",
       "    <tr>\n",
       "      <th>max</th>\n",
       "      <td>261400.000000</td>\n",
       "      <td>2022.000000</td>\n",
       "      <td>50.000000</td>\n",
       "      <td>11299.000000</td>\n",
       "      <td>1.576800e+06</td>\n",
       "      <td>157680.000000</td>\n",
       "      <td>1.576800e+06</td>\n",
       "      <td>2017.000000</td>\n",
       "      <td>79661.000000</td>\n",
       "      <td>10.000000</td>\n",
       "      <td>8.620630</td>\n",
       "      <td>115408.000000</td>\n",
       "      <td>2089.000000</td>\n",
       "      <td>2053.000000</td>\n",
       "      <td>12010.000000</td>\n",
       "      <td>15559.000000</td>\n",
       "      <td>6773.000000</td>\n",
       "      <td>5.000000</td>\n",
       "    </tr>\n",
       "  </tbody>\n",
       "</table>\n",
       "</div>"
      ],
      "text/plain": [
       "                  id  yearpublished     minplayers     maxplayers  \\\n",
       "count  101375.000000  101372.000000  101372.000000  101372.000000   \n",
       "mean   105503.640158    1825.910064       1.978594       5.855285   \n",
       "std     81954.688618     566.193527       0.847856      50.706681   \n",
       "min         1.000000   -3500.000000       0.000000       0.000000   \n",
       "25%     27534.500000    1988.000000       2.000000       2.000000   \n",
       "50%     96866.000000    2007.000000       2.000000       4.000000   \n",
       "75%    175612.000000    2014.000000       2.000000       6.000000   \n",
       "max    261400.000000    2022.000000      50.000000   11299.000000   \n",
       "\n",
       "        playingtime    minplaytime   maxplaytime         minage  \\\n",
       "count  1.013720e+05  101372.000000  1.013720e+05  101372.000000   \n",
       "mean   8.735479e+01      46.361767  8.735479e+01       7.390532   \n",
       "std    7.022972e+03     578.677406  7.022972e+03      10.278054   \n",
       "min    0.000000e+00       0.000000  0.000000e+00       0.000000   \n",
       "25%    6.000000e+00      10.000000  6.000000e+00       3.000000   \n",
       "50%    3.000000e+01      30.000000  3.000000e+01       8.000000   \n",
       "75%    6.000000e+01      60.000000  6.000000e+01      12.000000   \n",
       "max    1.576800e+06  157680.000000  1.576800e+06    2017.000000   \n",
       "\n",
       "         users_rated  average_rating  bayes_average_rating   total_owners  \\\n",
       "count  101375.000000   101375.000000         101375.000000  101375.000000   \n",
       "mean      138.234427        4.479398              1.206433     272.960404   \n",
       "std      1208.193739        2.971204              2.339957    1755.161683   \n",
       "min         0.000000        0.000000              0.000000       0.000000   \n",
       "25%         0.000000        0.000000              0.000000       2.000000   \n",
       "50%         3.000000        5.500000              0.000000       9.000000   \n",
       "75%        20.000000        6.817115              0.000000      70.000000   \n",
       "max     79661.000000       10.000000              8.620630  115408.000000   \n",
       "\n",
       "       total_traders  total_wanters  total_wishers  total_comments  \\\n",
       "count  101375.000000  101375.000000  101375.000000   101375.000000   \n",
       "mean        8.561243      10.102244      40.458742       38.545125   \n",
       "std        40.397130      52.444488     257.338270      253.506881   \n",
       "min         0.000000       0.000000       0.000000        0.000000   \n",
       "25%         0.000000       0.000000       1.000000        0.000000   \n",
       "50%         0.000000       0.000000       3.000000        2.000000   \n",
       "75%         3.000000       3.000000      11.000000       10.000000   \n",
       "max      2089.000000    2053.000000   12010.000000    15559.000000   \n",
       "\n",
       "       total_weights  average_weight  \n",
       "count  101375.000000   101375.000000  \n",
       "mean        9.849825        0.848633  \n",
       "std        85.959765        1.147242  \n",
       "min         0.000000        0.000000  \n",
       "25%         0.000000        0.000000  \n",
       "50%         0.000000        0.000000  \n",
       "75%         2.000000        1.733300  \n",
       "max      6773.000000        5.000000  "
      ]
     },
     "execution_count": 4,
     "metadata": {},
     "output_type": "execute_result"
    }
   ],
   "source": [
    "raw_data.describe()"
   ]
  },
  {
   "cell_type": "code",
   "execution_count": 5,
   "metadata": {},
   "outputs": [
    {
     "name": "stdout",
     "output_type": "stream",
     "text": [
      "<class 'pandas.core.frame.DataFrame'>\n",
      "RangeIndex: 101375 entries, 0 to 101374\n",
      "Data columns (total 21 columns):\n",
      "id                      101375 non-null int64\n",
      "type                    101375 non-null object\n",
      "name                    101337 non-null object\n",
      "yearpublished           101372 non-null float64\n",
      "minplayers              101372 non-null float64\n",
      "maxplayers              101372 non-null float64\n",
      "playingtime             101372 non-null float64\n",
      "minplaytime             101372 non-null float64\n",
      "maxplaytime             101372 non-null float64\n",
      "minage                  101372 non-null float64\n",
      "users_rated             101375 non-null int64\n",
      "average_rating          101375 non-null float64\n",
      "bayes_average_rating    101375 non-null float64\n",
      "total_owners            101375 non-null int64\n",
      "total_traders           101375 non-null int64\n",
      "total_wanters           101375 non-null int64\n",
      "total_wishers           101375 non-null int64\n",
      "total_comments          101375 non-null int64\n",
      "total_weights           101375 non-null int64\n",
      "average_weight          101375 non-null float64\n",
      "meta                    101375 non-null object\n",
      "dtypes: float64(10), int64(8), object(3)\n",
      "memory usage: 16.2+ MB\n"
     ]
    }
   ],
   "source": [
    "raw_data.info()"
   ]
  },
  {
   "cell_type": "markdown",
   "metadata": {},
   "source": [
    "### Dropping Null Values\n",
    "Since we only have at most 59 indices with null values, I'm just going to drop all null values, as it won't have a significant impact on the size of the database.\n",
    "\n",
    "I'm also going to only keep base boardgames, dropping any games whose type is boardgameexpansion, as I want to predict ratings for newly created games, not expansions."
   ]
  },
  {
   "cell_type": "code",
   "execution_count": 6,
   "metadata": {},
   "outputs": [],
   "source": [
    "raw_data.dropna(inplace=True)"
   ]
  },
  {
   "cell_type": "code",
   "execution_count": 7,
   "metadata": {},
   "outputs": [
    {
     "data": {
      "text/plain": [
       "boardgame             83996\n",
       "boardgameexpansion    17338\n",
       "Name: type, dtype: int64"
      ]
     },
     "execution_count": 7,
     "metadata": {},
     "output_type": "execute_result"
    }
   ],
   "source": [
    "raw_data.type.value_counts()"
   ]
  },
  {
   "cell_type": "code",
   "execution_count": 8,
   "metadata": {},
   "outputs": [],
   "source": [
    "full_game_data = raw_data.loc[raw_data['type'] != 'boardgameexpansion']"
   ]
  },
  {
   "cell_type": "code",
   "execution_count": 9,
   "metadata": {},
   "outputs": [
    {
     "data": {
      "text/plain": [
       "boardgame    83996\n",
       "Name: type, dtype: int64"
      ]
     },
     "execution_count": 9,
     "metadata": {},
     "output_type": "execute_result"
    }
   ],
   "source": [
    "full_game_data.type.value_counts()"
   ]
  },
  {
   "cell_type": "markdown",
   "metadata": {},
   "source": [
    "### Expanding Meta Column\n",
    "The Meta column contains various bits of information about each game, so I will expand that column into separate columns for each data piece."
   ]
  },
  {
   "cell_type": "code",
   "execution_count": 10,
   "metadata": {},
   "outputs": [],
   "source": [
    "expanded_meta = pd.DataFrame(full_game_data['meta'].map(eval).tolist(),\n",
    "                             index=full_game_data.index)"
   ]
  },
  {
   "cell_type": "code",
   "execution_count": 11,
   "metadata": {},
   "outputs": [],
   "source": [
    "expanded_data = pd.concat([full_game_data.drop('meta', axis=1),\n",
    "                           expanded_meta], axis=1)"
   ]
  },
  {
   "cell_type": "code",
   "execution_count": 12,
   "metadata": {},
   "outputs": [
    {
     "data": {
      "text/plain": [
       "83996"
      ]
     },
     "execution_count": 12,
     "metadata": {},
     "output_type": "execute_result"
    }
   ],
   "source": [
    "len(expanded_data)"
   ]
  },
  {
   "cell_type": "code",
   "execution_count": 13,
   "metadata": {},
   "outputs": [
    {
     "data": {
      "text/plain": [
       "Index(['id', 'type', 'name', 'yearpublished', 'minplayers', 'maxplayers',\n",
       "       'playingtime', 'minplaytime', 'maxplaytime', 'minage', 'users_rated',\n",
       "       'average_rating', 'bayes_average_rating', 'total_owners',\n",
       "       'total_traders', 'total_wanters', 'total_wishers', 'total_comments',\n",
       "       'total_weights', 'average_weight', 'boardgameartist',\n",
       "       'boardgamecategory', 'boardgameintegration', 'boardgameexpansion',\n",
       "       'boardgameimplementation', 'boardgamepublisher', 'boardgamemechanic',\n",
       "       'boardgamedesigner', 'boardgamefamily', 'boardgamecompilation'],\n",
       "      dtype='object')"
      ]
     },
     "execution_count": 13,
     "metadata": {},
     "output_type": "execute_result"
    }
   ],
   "source": [
    "expanded_data.columns"
   ]
  },
  {
   "cell_type": "code",
   "execution_count": 14,
   "metadata": {},
   "outputs": [
    {
     "name": "stdout",
     "output_type": "stream",
     "text": [
      "<class 'pandas.core.frame.DataFrame'>\n",
      "Int64Index: 83996 entries, 0 to 101374\n",
      "Data columns (total 30 columns):\n",
      "id                         83996 non-null int64\n",
      "type                       83996 non-null object\n",
      "name                       83996 non-null object\n",
      "yearpublished              83996 non-null float64\n",
      "minplayers                 83996 non-null float64\n",
      "maxplayers                 83996 non-null float64\n",
      "playingtime                83996 non-null float64\n",
      "minplaytime                83996 non-null float64\n",
      "maxplaytime                83996 non-null float64\n",
      "minage                     83996 non-null float64\n",
      "users_rated                83996 non-null int64\n",
      "average_rating             83996 non-null float64\n",
      "bayes_average_rating       83996 non-null float64\n",
      "total_owners               83996 non-null int64\n",
      "total_traders              83996 non-null int64\n",
      "total_wanters              83996 non-null int64\n",
      "total_wishers              83996 non-null int64\n",
      "total_comments             83996 non-null int64\n",
      "total_weights              83996 non-null int64\n",
      "average_weight             83996 non-null float64\n",
      "boardgameartist            31972 non-null object\n",
      "boardgamecategory          82391 non-null object\n",
      "boardgameintegration       1788 non-null object\n",
      "boardgameexpansion         4913 non-null object\n",
      "boardgameimplementation    5073 non-null object\n",
      "boardgamepublisher         83992 non-null object\n",
      "boardgamemechanic          69567 non-null object\n",
      "boardgamedesigner          72966 non-null object\n",
      "boardgamefamily            44305 non-null object\n",
      "boardgamecompilation       1255 non-null object\n",
      "dtypes: float64(10), int64(8), object(12)\n",
      "memory usage: 19.9+ MB\n"
     ]
    }
   ],
   "source": [
    "expanded_data.info()"
   ]
  },
  {
   "cell_type": "markdown",
   "metadata": {},
   "source": [
    "### Dropping Unnecessary Columns\n",
    "A number of these columns won't have an effect or don't contain enough data to warrant keeping. Dropping some of the more obvious offenders before investigating some of the other newly-created columns and their missing values."
   ]
  },
  {
   "cell_type": "code",
   "execution_count": 15,
   "metadata": {},
   "outputs": [
    {
     "data": {
      "text/plain": [
       "0.00000    67846\n",
       "5.50044       11\n",
       "5.55007        7\n",
       "5.50000        7\n",
       "5.49956        7\n",
       "           ...  \n",
       "5.50589        1\n",
       "7.07528        1\n",
       "5.54439        1\n",
       "5.90490        1\n",
       "5.50743        1\n",
       "Name: bayes_average_rating, Length: 13185, dtype: int64"
      ]
     },
     "execution_count": 15,
     "metadata": {},
     "output_type": "execute_result"
    }
   ],
   "source": [
    "expanded_data.bayes_average_rating.value_counts()"
   ]
  },
  {
   "cell_type": "code",
   "execution_count": 16,
   "metadata": {},
   "outputs": [
    {
     "data": {
      "text/plain": [
       "0       28761\n",
       "1       13623\n",
       "2        6977\n",
       "3        4352\n",
       "4        3060\n",
       "        ...  \n",
       "1822        1\n",
       "1566        1\n",
       "1374        1\n",
       "1182        1\n",
       "1983        1\n",
       "Name: total_comments, Length: 1397, dtype: int64"
      ]
     },
     "execution_count": 16,
     "metadata": {},
     "output_type": "execute_result"
    }
   ],
   "source": [
    "expanded_data.total_comments.value_counts()"
   ]
  },
  {
   "cell_type": "code",
   "execution_count": 17,
   "metadata": {},
   "outputs": [],
   "source": [
    "expanded_data.drop(columns=['id', 'total_traders', 'bayes_average_rating',\n",
    "                            'total_wanters', 'total_wishers', 'total_comments',\n",
    "                            'boardgameartist', 'boardgameintegration',\n",
    "                            'boardgameexpansion', 'boardgameimplementation',\n",
    "                            'boardgamefamily', 'boardgamecompilation'],\n",
    "                   inplace=True)"
   ]
  },
  {
   "cell_type": "code",
   "execution_count": 18,
   "metadata": {},
   "outputs": [
    {
     "data": {
      "text/plain": [
       "(Self-Published)                                       3820\n",
       "(Web published)                                        2834\n",
       "(Unknown)                                              1398\n",
       "Warp Spawn Games                                        966\n",
       "Milton Bradley                                          880\n",
       "                                                       ... \n",
       "Lock 'n Load Publishing, LLC., Shrapnel Games, Inc.       1\n",
       "Edge Entertainment, Truant Spiele, Ulisses Spiele         1\n",
       "Creation Life Publishers                                  1\n",
       "Siler/Siler Ventures                                      1\n",
       "Mahavideh Foundation                                      1\n",
       "Name: boardgamepublisher, Length: 25941, dtype: int64"
      ]
     },
     "execution_count": 18,
     "metadata": {},
     "output_type": "execute_result"
    }
   ],
   "source": [
    "expanded_data.boardgamepublisher.value_counts()"
   ]
  },
  {
   "cell_type": "code",
   "execution_count": 19,
   "metadata": {},
   "outputs": [
    {
     "data": {
      "text/plain": [
       "(Uncredited)                        18515\n",
       "Lloyd Krassner                        868\n",
       "Reiner Knizia                         492\n",
       "Charles Darrow                        256\n",
       "Joseph Miranda                        172\n",
       "                                    ...  \n",
       "Gene A. Glazier, Gregory Gunther        1\n",
       "Philippe Beaudoin                       1\n",
       "Phil Orbanes Sr., John Young            1\n",
       "Michel Gutierrez                        1\n",
       "David Fraser                            1\n",
       "Name: boardgamedesigner, Length: 23684, dtype: int64"
      ]
     },
     "execution_count": 19,
     "metadata": {},
     "output_type": "execute_result"
    }
   ],
   "source": [
    "expanded_data.boardgamedesigner.value_counts()"
   ]
  },
  {
   "cell_type": "code",
   "execution_count": 20,
   "metadata": {},
   "outputs": [
    {
     "data": {
      "text/plain": [
       "10348"
      ]
     },
     "execution_count": 20,
     "metadata": {},
     "output_type": "execute_result"
    }
   ],
   "source": [
    "len(expanded_data.boardgamemechanic.unique())"
   ]
  },
  {
   "cell_type": "code",
   "execution_count": 21,
   "metadata": {},
   "outputs": [
    {
     "data": {
      "text/plain": [
       "15564"
      ]
     },
     "execution_count": 21,
     "metadata": {},
     "output_type": "execute_result"
    }
   ],
   "source": [
    "len(expanded_data.boardgamecategory.unique())"
   ]
  },
  {
   "cell_type": "markdown",
   "metadata": {},
   "source": [
    "As Publisher and Designer have too many unique values, they won't be a good feature to predict from."
   ]
  },
  {
   "cell_type": "code",
   "execution_count": 22,
   "metadata": {},
   "outputs": [],
   "source": [
    "expanded_data.drop(columns=['boardgamepublisher', 'boardgamedesigner'],\n",
    "                   axis=1, inplace=True)"
   ]
  },
  {
   "cell_type": "code",
   "execution_count": 23,
   "metadata": {},
   "outputs": [
    {
     "data": {
      "text/html": [
       "<div>\n",
       "<style scoped>\n",
       "    .dataframe tbody tr th:only-of-type {\n",
       "        vertical-align: middle;\n",
       "    }\n",
       "\n",
       "    .dataframe tbody tr th {\n",
       "        vertical-align: top;\n",
       "    }\n",
       "\n",
       "    .dataframe thead th {\n",
       "        text-align: right;\n",
       "    }\n",
       "</style>\n",
       "<table border=\"1\" class=\"dataframe\">\n",
       "  <thead>\n",
       "    <tr style=\"text-align: right;\">\n",
       "      <th></th>\n",
       "      <th>type</th>\n",
       "      <th>name</th>\n",
       "      <th>yearpublished</th>\n",
       "      <th>minplayers</th>\n",
       "      <th>maxplayers</th>\n",
       "      <th>playingtime</th>\n",
       "      <th>minplaytime</th>\n",
       "      <th>maxplaytime</th>\n",
       "      <th>minage</th>\n",
       "      <th>users_rated</th>\n",
       "      <th>average_rating</th>\n",
       "      <th>total_owners</th>\n",
       "      <th>total_weights</th>\n",
       "      <th>average_weight</th>\n",
       "      <th>boardgamecategory</th>\n",
       "      <th>boardgamemechanic</th>\n",
       "    </tr>\n",
       "  </thead>\n",
       "  <tbody>\n",
       "    <tr>\n",
       "      <th>0</th>\n",
       "      <td>boardgame</td>\n",
       "      <td>Warhammer 40,000: Heroes of Black Reach</td>\n",
       "      <td>2018.0</td>\n",
       "      <td>2.0</td>\n",
       "      <td>2.0</td>\n",
       "      <td>120.0</td>\n",
       "      <td>30.0</td>\n",
       "      <td>120.0</td>\n",
       "      <td>14.0</td>\n",
       "      <td>11</td>\n",
       "      <td>7.63636</td>\n",
       "      <td>25</td>\n",
       "      <td>0</td>\n",
       "      <td>0.0</td>\n",
       "      <td>Wargame</td>\n",
       "      <td>Action / Movement Programming</td>\n",
       "    </tr>\n",
       "    <tr>\n",
       "      <th>1</th>\n",
       "      <td>boardgame</td>\n",
       "      <td>The Russo-Georgian War of 2008</td>\n",
       "      <td>2010.0</td>\n",
       "      <td>1.0</td>\n",
       "      <td>2.0</td>\n",
       "      <td>90.0</td>\n",
       "      <td>90.0</td>\n",
       "      <td>90.0</td>\n",
       "      <td>12.0</td>\n",
       "      <td>9</td>\n",
       "      <td>7.22222</td>\n",
       "      <td>24</td>\n",
       "      <td>1</td>\n",
       "      <td>3.0</td>\n",
       "      <td>Modern Warfare</td>\n",
       "      <td>Hex-and-Counter</td>\n",
       "    </tr>\n",
       "    <tr>\n",
       "      <th>2</th>\n",
       "      <td>boardgame</td>\n",
       "      <td>Frher oder Spter</td>\n",
       "      <td>2009.0</td>\n",
       "      <td>2.0</td>\n",
       "      <td>5.0</td>\n",
       "      <td>30.0</td>\n",
       "      <td>30.0</td>\n",
       "      <td>30.0</td>\n",
       "      <td>8.0</td>\n",
       "      <td>2</td>\n",
       "      <td>4.50000</td>\n",
       "      <td>3</td>\n",
       "      <td>1</td>\n",
       "      <td>1.0</td>\n",
       "      <td>Card Game</td>\n",
       "      <td>Hand Management</td>\n",
       "    </tr>\n",
       "    <tr>\n",
       "      <th>3</th>\n",
       "      <td>boardgame</td>\n",
       "      <td>Supervivencia</td>\n",
       "      <td>1990.0</td>\n",
       "      <td>2.0</td>\n",
       "      <td>6.0</td>\n",
       "      <td>80.0</td>\n",
       "      <td>80.0</td>\n",
       "      <td>80.0</td>\n",
       "      <td>10.0</td>\n",
       "      <td>1</td>\n",
       "      <td>5.00000</td>\n",
       "      <td>0</td>\n",
       "      <td>1</td>\n",
       "      <td>2.0</td>\n",
       "      <td>Dice, Exploration</td>\n",
       "      <td>Card Drafting, Roll / Spin and Move, Trading</td>\n",
       "    </tr>\n",
       "    <tr>\n",
       "      <th>4</th>\n",
       "      <td>boardgame</td>\n",
       "      <td>Malware Containment (Malcon)</td>\n",
       "      <td>2017.0</td>\n",
       "      <td>4.0</td>\n",
       "      <td>5.0</td>\n",
       "      <td>60.0</td>\n",
       "      <td>30.0</td>\n",
       "      <td>60.0</td>\n",
       "      <td>13.0</td>\n",
       "      <td>0</td>\n",
       "      <td>0.00000</td>\n",
       "      <td>1</td>\n",
       "      <td>0</td>\n",
       "      <td>0.0</td>\n",
       "      <td>Educational</td>\n",
       "      <td>Role Playing</td>\n",
       "    </tr>\n",
       "  </tbody>\n",
       "</table>\n",
       "</div>"
      ],
      "text/plain": [
       "        type                                     name  yearpublished  \\\n",
       "0  boardgame  Warhammer 40,000: Heroes of Black Reach         2018.0   \n",
       "1  boardgame           The Russo-Georgian War of 2008         2010.0   \n",
       "2  boardgame                         Frher oder Spter         2009.0   \n",
       "3  boardgame                            Supervivencia         1990.0   \n",
       "4  boardgame             Malware Containment (Malcon)         2017.0   \n",
       "\n",
       "   minplayers  maxplayers  playingtime  minplaytime  maxplaytime  minage  \\\n",
       "0         2.0         2.0        120.0         30.0        120.0    14.0   \n",
       "1         1.0         2.0         90.0         90.0         90.0    12.0   \n",
       "2         2.0         5.0         30.0         30.0         30.0     8.0   \n",
       "3         2.0         6.0         80.0         80.0         80.0    10.0   \n",
       "4         4.0         5.0         60.0         30.0         60.0    13.0   \n",
       "\n",
       "   users_rated  average_rating  total_owners  total_weights  average_weight  \\\n",
       "0           11         7.63636            25              0             0.0   \n",
       "1            9         7.22222            24              1             3.0   \n",
       "2            2         4.50000             3              1             1.0   \n",
       "3            1         5.00000             0              1             2.0   \n",
       "4            0         0.00000             1              0             0.0   \n",
       "\n",
       "   boardgamecategory                             boardgamemechanic  \n",
       "0            Wargame                 Action / Movement Programming  \n",
       "1     Modern Warfare                               Hex-and-Counter  \n",
       "2          Card Game                               Hand Management  \n",
       "3  Dice, Exploration  Card Drafting, Roll / Spin and Move, Trading  \n",
       "4        Educational                                  Role Playing  "
      ]
     },
     "execution_count": 23,
     "metadata": {},
     "output_type": "execute_result"
    }
   ],
   "source": [
    "expanded_data.head()"
   ]
  },
  {
   "cell_type": "markdown",
   "metadata": {},
   "source": [
    "Next I want to drop games that don't have any user ratings or owners, to ensure that those games that haven't been rated or owned don't affect my predictions. "
   ]
  },
  {
   "cell_type": "code",
   "execution_count": 24,
   "metadata": {},
   "outputs": [],
   "source": [
    "to_drop = expanded_data.loc[(expanded_data['users_rated'] == 0) |\n",
    "                            (expanded_data['total_owners'] == 0) |\n",
    "                            (expanded_data['yearpublished'] == 0)].index\n",
    "expanded_data.drop(index=to_drop, axis=0, inplace=True)"
   ]
  },
  {
   "cell_type": "code",
   "execution_count": 25,
   "metadata": {},
   "outputs": [
    {
     "name": "stdout",
     "output_type": "stream",
     "text": [
      "<class 'pandas.core.frame.DataFrame'>\n",
      "Int64Index: 54480 entries, 0 to 101374\n",
      "Data columns (total 16 columns):\n",
      "type                 54480 non-null object\n",
      "name                 54480 non-null object\n",
      "yearpublished        54480 non-null float64\n",
      "minplayers           54480 non-null float64\n",
      "maxplayers           54480 non-null float64\n",
      "playingtime          54480 non-null float64\n",
      "minplaytime          54480 non-null float64\n",
      "maxplaytime          54480 non-null float64\n",
      "minage               54480 non-null float64\n",
      "users_rated          54480 non-null int64\n",
      "average_rating       54480 non-null float64\n",
      "total_owners         54480 non-null int64\n",
      "total_weights        54480 non-null int64\n",
      "average_weight       54480 non-null float64\n",
      "boardgamecategory    53630 non-null object\n",
      "boardgamemechanic    46389 non-null object\n",
      "dtypes: float64(9), int64(3), object(4)\n",
      "memory usage: 7.1+ MB\n"
     ]
    }
   ],
   "source": [
    "expanded_data.info()"
   ]
  },
  {
   "cell_type": "markdown",
   "metadata": {},
   "source": [
    "### Finalizing Dataset\n",
    "I want to change the last couple of column names, then create dummy values for each category and mechanic to onehot encode them all, and finally get each column to a similar naming state."
   ]
  },
  {
   "cell_type": "code",
   "execution_count": 26,
   "metadata": {},
   "outputs": [],
   "source": [
    "expanded_data.rename(columns={'boardgamecategory': 'category',\n",
    "                              'boardgamemechanic': 'mechanic'}, inplace=True)"
   ]
  },
  {
   "cell_type": "code",
   "execution_count": 27,
   "metadata": {},
   "outputs": [],
   "source": [
    "expanded_data['category'] = expanded_data.category.str.replace('|', ', ')\n",
    "expanded_data['mechanic'] = expanded_data.mechanic.str.replace('|', ', ')"
   ]
  },
  {
   "cell_type": "code",
   "execution_count": 28,
   "metadata": {},
   "outputs": [],
   "source": [
    "cat_dummies = expanded_data['category'].str.get_dummies(sep=', ')\n",
    "mech_dummies = expanded_data['mechanic'].str.get_dummies(sep=', ')\n",
    "final_data = pd.concat([expanded_data.drop(columns=['type', 'category',\n",
    "                                                    'mechanic'], axis=1),\n",
    "                        cat_dummies.add_prefix('category_'),\n",
    "                        mech_dummies.add_prefix('mechanic_')], axis=1)"
   ]
  },
  {
   "cell_type": "code",
   "execution_count": 29,
   "metadata": {},
   "outputs": [],
   "source": [
    "final_data.columns = final_data.columns.str.replace(' ', '_').str.lower()"
   ]
  },
  {
   "cell_type": "code",
   "execution_count": 30,
   "metadata": {},
   "outputs": [],
   "source": [
    "final_data.rename(columns={'yearpublished': 'year_published', 'minplayers':\n",
    "                           'min_players', 'maxplayers': 'max_players',\n",
    "                           'playingtime': 'playing_time', 'minplaytime':\n",
    "                           'min_play_time', 'maxplaytime': 'max_play_time',\n",
    "                           'minage': 'min_age'}, inplace=True)"
   ]
  },
  {
   "cell_type": "code",
   "execution_count": 31,
   "metadata": {},
   "outputs": [
    {
     "data": {
      "text/html": [
       "<div>\n",
       "<style scoped>\n",
       "    .dataframe tbody tr th:only-of-type {\n",
       "        vertical-align: middle;\n",
       "    }\n",
       "\n",
       "    .dataframe tbody tr th {\n",
       "        vertical-align: top;\n",
       "    }\n",
       "\n",
       "    .dataframe thead th {\n",
       "        text-align: right;\n",
       "    }\n",
       "</style>\n",
       "<table border=\"1\" class=\"dataframe\">\n",
       "  <thead>\n",
       "    <tr style=\"text-align: right;\">\n",
       "      <th></th>\n",
       "      <th>name</th>\n",
       "      <th>year_published</th>\n",
       "      <th>min_players</th>\n",
       "      <th>max_players</th>\n",
       "      <th>playing_time</th>\n",
       "      <th>min_play_time</th>\n",
       "      <th>max_play_time</th>\n",
       "      <th>min_age</th>\n",
       "      <th>users_rated</th>\n",
       "      <th>average_rating</th>\n",
       "      <th>...</th>\n",
       "      <th>mechanic_storytelling</th>\n",
       "      <th>mechanic_take_that</th>\n",
       "      <th>mechanic_tile_placement</th>\n",
       "      <th>mechanic_time_track</th>\n",
       "      <th>mechanic_trading</th>\n",
       "      <th>mechanic_trick-taking</th>\n",
       "      <th>mechanic_variable_phase_order</th>\n",
       "      <th>mechanic_variable_player_powers</th>\n",
       "      <th>mechanic_voting</th>\n",
       "      <th>mechanic_worker_placement</th>\n",
       "    </tr>\n",
       "  </thead>\n",
       "  <tbody>\n",
       "    <tr>\n",
       "      <th>0</th>\n",
       "      <td>Warhammer 40,000: Heroes of Black Reach</td>\n",
       "      <td>2018.0</td>\n",
       "      <td>2.0</td>\n",
       "      <td>2.0</td>\n",
       "      <td>120.0</td>\n",
       "      <td>30.0</td>\n",
       "      <td>120.0</td>\n",
       "      <td>14.0</td>\n",
       "      <td>11</td>\n",
       "      <td>7.63636</td>\n",
       "      <td>...</td>\n",
       "      <td>0</td>\n",
       "      <td>0</td>\n",
       "      <td>0</td>\n",
       "      <td>0</td>\n",
       "      <td>0</td>\n",
       "      <td>0</td>\n",
       "      <td>0</td>\n",
       "      <td>0</td>\n",
       "      <td>0</td>\n",
       "      <td>0</td>\n",
       "    </tr>\n",
       "    <tr>\n",
       "      <th>1</th>\n",
       "      <td>The Russo-Georgian War of 2008</td>\n",
       "      <td>2010.0</td>\n",
       "      <td>1.0</td>\n",
       "      <td>2.0</td>\n",
       "      <td>90.0</td>\n",
       "      <td>90.0</td>\n",
       "      <td>90.0</td>\n",
       "      <td>12.0</td>\n",
       "      <td>9</td>\n",
       "      <td>7.22222</td>\n",
       "      <td>...</td>\n",
       "      <td>0</td>\n",
       "      <td>0</td>\n",
       "      <td>0</td>\n",
       "      <td>0</td>\n",
       "      <td>0</td>\n",
       "      <td>0</td>\n",
       "      <td>0</td>\n",
       "      <td>0</td>\n",
       "      <td>0</td>\n",
       "      <td>0</td>\n",
       "    </tr>\n",
       "    <tr>\n",
       "      <th>2</th>\n",
       "      <td>Frher oder Spter</td>\n",
       "      <td>2009.0</td>\n",
       "      <td>2.0</td>\n",
       "      <td>5.0</td>\n",
       "      <td>30.0</td>\n",
       "      <td>30.0</td>\n",
       "      <td>30.0</td>\n",
       "      <td>8.0</td>\n",
       "      <td>2</td>\n",
       "      <td>4.50000</td>\n",
       "      <td>...</td>\n",
       "      <td>0</td>\n",
       "      <td>0</td>\n",
       "      <td>0</td>\n",
       "      <td>0</td>\n",
       "      <td>0</td>\n",
       "      <td>0</td>\n",
       "      <td>0</td>\n",
       "      <td>0</td>\n",
       "      <td>0</td>\n",
       "      <td>0</td>\n",
       "    </tr>\n",
       "    <tr>\n",
       "      <th>5</th>\n",
       "      <td>Wings Over France</td>\n",
       "      <td>1992.0</td>\n",
       "      <td>1.0</td>\n",
       "      <td>1.0</td>\n",
       "      <td>60.0</td>\n",
       "      <td>60.0</td>\n",
       "      <td>60.0</td>\n",
       "      <td>10.0</td>\n",
       "      <td>50</td>\n",
       "      <td>7.50000</td>\n",
       "      <td>...</td>\n",
       "      <td>0</td>\n",
       "      <td>0</td>\n",
       "      <td>0</td>\n",
       "      <td>0</td>\n",
       "      <td>0</td>\n",
       "      <td>0</td>\n",
       "      <td>0</td>\n",
       "      <td>0</td>\n",
       "      <td>0</td>\n",
       "      <td>0</td>\n",
       "    </tr>\n",
       "    <tr>\n",
       "      <th>9</th>\n",
       "      <td>Mothra vs. Godzilla</td>\n",
       "      <td>1982.0</td>\n",
       "      <td>2.0</td>\n",
       "      <td>2.0</td>\n",
       "      <td>90.0</td>\n",
       "      <td>90.0</td>\n",
       "      <td>90.0</td>\n",
       "      <td>10.0</td>\n",
       "      <td>7</td>\n",
       "      <td>6.98143</td>\n",
       "      <td>...</td>\n",
       "      <td>0</td>\n",
       "      <td>0</td>\n",
       "      <td>0</td>\n",
       "      <td>0</td>\n",
       "      <td>0</td>\n",
       "      <td>0</td>\n",
       "      <td>0</td>\n",
       "      <td>0</td>\n",
       "      <td>0</td>\n",
       "      <td>0</td>\n",
       "    </tr>\n",
       "  </tbody>\n",
       "</table>\n",
       "<p>5 rows × 148 columns</p>\n",
       "</div>"
      ],
      "text/plain": [
       "                                      name  year_published  min_players  \\\n",
       "0  Warhammer 40,000: Heroes of Black Reach          2018.0          2.0   \n",
       "1           The Russo-Georgian War of 2008          2010.0          1.0   \n",
       "2                         Frher oder Spter          2009.0          2.0   \n",
       "5                        Wings Over France          1992.0          1.0   \n",
       "9                      Mothra vs. Godzilla          1982.0          2.0   \n",
       "\n",
       "   max_players  playing_time  min_play_time  max_play_time  min_age  \\\n",
       "0          2.0         120.0           30.0          120.0     14.0   \n",
       "1          2.0          90.0           90.0           90.0     12.0   \n",
       "2          5.0          30.0           30.0           30.0      8.0   \n",
       "5          1.0          60.0           60.0           60.0     10.0   \n",
       "9          2.0          90.0           90.0           90.0     10.0   \n",
       "\n",
       "   users_rated  average_rating  ...  mechanic_storytelling  \\\n",
       "0           11         7.63636  ...                      0   \n",
       "1            9         7.22222  ...                      0   \n",
       "2            2         4.50000  ...                      0   \n",
       "5           50         7.50000  ...                      0   \n",
       "9            7         6.98143  ...                      0   \n",
       "\n",
       "   mechanic_take_that  mechanic_tile_placement  mechanic_time_track  \\\n",
       "0                   0                        0                    0   \n",
       "1                   0                        0                    0   \n",
       "2                   0                        0                    0   \n",
       "5                   0                        0                    0   \n",
       "9                   0                        0                    0   \n",
       "\n",
       "   mechanic_trading  mechanic_trick-taking  mechanic_variable_phase_order  \\\n",
       "0                 0                      0                              0   \n",
       "1                 0                      0                              0   \n",
       "2                 0                      0                              0   \n",
       "5                 0                      0                              0   \n",
       "9                 0                      0                              0   \n",
       "\n",
       "   mechanic_variable_player_powers  mechanic_voting  mechanic_worker_placement  \n",
       "0                                0                0                          0  \n",
       "1                                0                0                          0  \n",
       "2                                0                0                          0  \n",
       "5                                0                0                          0  \n",
       "9                                0                0                          0  \n",
       "\n",
       "[5 rows x 148 columns]"
      ]
     },
     "execution_count": 31,
     "metadata": {},
     "output_type": "execute_result"
    }
   ],
   "source": [
    "final_data.head()"
   ]
  },
  {
   "cell_type": "code",
   "execution_count": 32,
   "metadata": {},
   "outputs": [],
   "source": [
    "final_data.to_csv('final_data.csv')"
   ]
  }
 ],
 "metadata": {
  "kernelspec": {
   "display_name": "learn-env",
   "language": "python",
   "name": "learn-env"
  },
  "language_info": {
   "codemirror_mode": {
    "name": "ipython",
    "version": 3
   },
   "file_extension": ".py",
   "mimetype": "text/x-python",
   "name": "python",
   "nbconvert_exporter": "python",
   "pygments_lexer": "ipython3",
   "version": "3.6.6"
  }
 },
 "nbformat": 4,
 "nbformat_minor": 2
}
