{
 "cells": [
  {
   "cell_type": "markdown",
   "metadata": {},
   "source": [
    "# Modeling\n",
    "\n",
    "### Library & Data Imports"
   ]
  },
  {
   "cell_type": "code",
   "execution_count": 1,
   "metadata": {},
   "outputs": [],
   "source": [
    "import warnings; warnings.simplefilter('ignore')\n",
    "import pandas as pd\n",
    "import numpy as np\n",
    "\n",
    "from sklearn.linear_model import LassoCV, RidgeCV, LinearRegression\n",
    "from sklearn.preprocessing import StandardScaler\n",
    "from sklearn.metrics import r2_score, mean_squared_error\n",
    "from sklearn.model_selection import train_test_split, GridSearchCV\n",
    "from sklearn.ensemble import RandomForestRegressor, GradientBoostingRegressor\n",
    "\n",
    "import matplotlib.pyplot as plt\n",
    "import seaborn as sns\n",
    "import scipy.stats as stats\n",
    "plt.style.use('ggplot')\n",
    "\n",
    "from bg_functions import *"
   ]
  },
  {
   "cell_type": "code",
   "execution_count": 2,
   "metadata": {},
   "outputs": [
    {
     "data": {
      "text/html": [
       "<div>\n",
       "<style scoped>\n",
       "    .dataframe tbody tr th:only-of-type {\n",
       "        vertical-align: middle;\n",
       "    }\n",
       "\n",
       "    .dataframe tbody tr th {\n",
       "        vertical-align: top;\n",
       "    }\n",
       "\n",
       "    .dataframe thead th {\n",
       "        text-align: right;\n",
       "    }\n",
       "</style>\n",
       "<table border=\"1\" class=\"dataframe\">\n",
       "  <thead>\n",
       "    <tr style=\"text-align: right;\">\n",
       "      <th></th>\n",
       "      <th>name</th>\n",
       "      <th>year_published</th>\n",
       "      <th>min_players</th>\n",
       "      <th>max_players</th>\n",
       "      <th>playing_time</th>\n",
       "      <th>min_age</th>\n",
       "      <th>average_rating</th>\n",
       "      <th>average_weight</th>\n",
       "      <th>category_abstract_strategy</th>\n",
       "      <th>category_action_/_dexterity</th>\n",
       "      <th>...</th>\n",
       "      <th>mechanic_time_track</th>\n",
       "      <th>mechanic_trading</th>\n",
       "      <th>mechanic_trick-taking</th>\n",
       "      <th>mechanic_variable_phase_order</th>\n",
       "      <th>mechanic_variable_player_powers</th>\n",
       "      <th>mechanic_voting</th>\n",
       "      <th>mechanic_worker_placement</th>\n",
       "      <th>category_historical</th>\n",
       "      <th>category_culture</th>\n",
       "      <th>mechanic_movement</th>\n",
       "    </tr>\n",
       "  </thead>\n",
       "  <tbody>\n",
       "    <tr>\n",
       "      <th>0</th>\n",
       "      <td>Warhammer 40,000: Heroes of Black Reach</td>\n",
       "      <td>2018.0</td>\n",
       "      <td>2.0</td>\n",
       "      <td>2.0</td>\n",
       "      <td>120.0</td>\n",
       "      <td>14.0</td>\n",
       "      <td>7.63636</td>\n",
       "      <td>1.91252</td>\n",
       "      <td>0</td>\n",
       "      <td>0</td>\n",
       "      <td>...</td>\n",
       "      <td>0</td>\n",
       "      <td>0</td>\n",
       "      <td>0</td>\n",
       "      <td>0</td>\n",
       "      <td>0</td>\n",
       "      <td>0</td>\n",
       "      <td>0</td>\n",
       "      <td>0</td>\n",
       "      <td>0</td>\n",
       "      <td>1</td>\n",
       "    </tr>\n",
       "    <tr>\n",
       "      <th>1</th>\n",
       "      <td>The Russo-Georgian War of 2008</td>\n",
       "      <td>2010.0</td>\n",
       "      <td>1.0</td>\n",
       "      <td>2.0</td>\n",
       "      <td>90.0</td>\n",
       "      <td>12.0</td>\n",
       "      <td>7.22222</td>\n",
       "      <td>3.00000</td>\n",
       "      <td>0</td>\n",
       "      <td>0</td>\n",
       "      <td>...</td>\n",
       "      <td>0</td>\n",
       "      <td>0</td>\n",
       "      <td>0</td>\n",
       "      <td>0</td>\n",
       "      <td>0</td>\n",
       "      <td>0</td>\n",
       "      <td>0</td>\n",
       "      <td>0</td>\n",
       "      <td>0</td>\n",
       "      <td>0</td>\n",
       "    </tr>\n",
       "    <tr>\n",
       "      <th>2</th>\n",
       "      <td>Frher oder Spter</td>\n",
       "      <td>2009.0</td>\n",
       "      <td>2.0</td>\n",
       "      <td>5.0</td>\n",
       "      <td>30.0</td>\n",
       "      <td>8.0</td>\n",
       "      <td>4.50000</td>\n",
       "      <td>1.00000</td>\n",
       "      <td>0</td>\n",
       "      <td>0</td>\n",
       "      <td>...</td>\n",
       "      <td>0</td>\n",
       "      <td>0</td>\n",
       "      <td>0</td>\n",
       "      <td>0</td>\n",
       "      <td>0</td>\n",
       "      <td>0</td>\n",
       "      <td>0</td>\n",
       "      <td>0</td>\n",
       "      <td>0</td>\n",
       "      <td>0</td>\n",
       "    </tr>\n",
       "    <tr>\n",
       "      <th>5</th>\n",
       "      <td>Wings Over France</td>\n",
       "      <td>1992.0</td>\n",
       "      <td>1.0</td>\n",
       "      <td>1.0</td>\n",
       "      <td>60.0</td>\n",
       "      <td>10.0</td>\n",
       "      <td>7.50000</td>\n",
       "      <td>3.22220</td>\n",
       "      <td>0</td>\n",
       "      <td>0</td>\n",
       "      <td>...</td>\n",
       "      <td>0</td>\n",
       "      <td>0</td>\n",
       "      <td>0</td>\n",
       "      <td>0</td>\n",
       "      <td>0</td>\n",
       "      <td>0</td>\n",
       "      <td>0</td>\n",
       "      <td>0</td>\n",
       "      <td>0</td>\n",
       "      <td>0</td>\n",
       "    </tr>\n",
       "    <tr>\n",
       "      <th>9</th>\n",
       "      <td>Mothra vs. Godzilla</td>\n",
       "      <td>1982.0</td>\n",
       "      <td>2.0</td>\n",
       "      <td>2.0</td>\n",
       "      <td>90.0</td>\n",
       "      <td>10.0</td>\n",
       "      <td>6.98143</td>\n",
       "      <td>1.50000</td>\n",
       "      <td>0</td>\n",
       "      <td>0</td>\n",
       "      <td>...</td>\n",
       "      <td>0</td>\n",
       "      <td>0</td>\n",
       "      <td>0</td>\n",
       "      <td>0</td>\n",
       "      <td>0</td>\n",
       "      <td>0</td>\n",
       "      <td>0</td>\n",
       "      <td>0</td>\n",
       "      <td>1</td>\n",
       "      <td>0</td>\n",
       "    </tr>\n",
       "  </tbody>\n",
       "</table>\n",
       "<p>5 rows × 93 columns</p>\n",
       "</div>"
      ],
      "text/plain": [
       "                                      name  year_published  min_players  \\\n",
       "0  Warhammer 40,000: Heroes of Black Reach          2018.0          2.0   \n",
       "1           The Russo-Georgian War of 2008          2010.0          1.0   \n",
       "2                         Frher oder Spter          2009.0          2.0   \n",
       "5                        Wings Over France          1992.0          1.0   \n",
       "9                      Mothra vs. Godzilla          1982.0          2.0   \n",
       "\n",
       "   max_players  playing_time  min_age  average_rating  average_weight  \\\n",
       "0          2.0         120.0     14.0         7.63636         1.91252   \n",
       "1          2.0          90.0     12.0         7.22222         3.00000   \n",
       "2          5.0          30.0      8.0         4.50000         1.00000   \n",
       "5          1.0          60.0     10.0         7.50000         3.22220   \n",
       "9          2.0          90.0     10.0         6.98143         1.50000   \n",
       "\n",
       "   category_abstract_strategy  category_action_/_dexterity  ...  \\\n",
       "0                           0                            0  ...   \n",
       "1                           0                            0  ...   \n",
       "2                           0                            0  ...   \n",
       "5                           0                            0  ...   \n",
       "9                           0                            0  ...   \n",
       "\n",
       "   mechanic_time_track  mechanic_trading  mechanic_trick-taking  \\\n",
       "0                    0                 0                      0   \n",
       "1                    0                 0                      0   \n",
       "2                    0                 0                      0   \n",
       "5                    0                 0                      0   \n",
       "9                    0                 0                      0   \n",
       "\n",
       "   mechanic_variable_phase_order  mechanic_variable_player_powers  \\\n",
       "0                              0                                0   \n",
       "1                              0                                0   \n",
       "2                              0                                0   \n",
       "5                              0                                0   \n",
       "9                              0                                0   \n",
       "\n",
       "   mechanic_voting  mechanic_worker_placement  category_historical  \\\n",
       "0                0                          0                    0   \n",
       "1                0                          0                    0   \n",
       "2                0                          0                    0   \n",
       "5                0                          0                    0   \n",
       "9                0                          0                    0   \n",
       "\n",
       "   category_culture  mechanic_movement  \n",
       "0                 0                  1  \n",
       "1                 0                  0  \n",
       "2                 0                  0  \n",
       "5                 0                  0  \n",
       "9                 1                  0  \n",
       "\n",
       "[5 rows x 93 columns]"
      ]
     },
     "execution_count": 2,
     "metadata": {},
     "output_type": "execute_result"
    }
   ],
   "source": [
    "data = pd.read_csv('final_data.csv', index_col=0)\n",
    "data.head()"
   ]
  },
  {
   "cell_type": "markdown",
   "metadata": {},
   "source": [
    "### Setup"
   ]
  },
  {
   "cell_type": "code",
   "execution_count": 3,
   "metadata": {},
   "outputs": [],
   "source": [
    "y = data['average_rating']\n",
    "X = data.drop(['name', 'average_rating'], axis=1)"
   ]
  },
  {
   "cell_type": "code",
   "execution_count": 4,
   "metadata": {},
   "outputs": [],
   "source": [
    "X_train, X_test, y_train, y_test = train_test_split(X, y, random_state=42)"
   ]
  },
  {
   "cell_type": "markdown",
   "metadata": {},
   "source": [
    "### Baseline Model"
   ]
  },
  {
   "cell_type": "code",
   "execution_count": 5,
   "metadata": {},
   "outputs": [
    {
     "name": "stdout",
     "output_type": "stream",
     "text": [
      "Base MSE: 1.5854491022049808\n",
      "Base R^2 Score: 0.21685720352690874\n"
     ]
    }
   ],
   "source": [
    "lr = LinearRegression()\n",
    "lr.fit(X_train, y_train)\n",
    "base_preds = lr.predict(X_test)\n",
    "print('Base MSE:', mean_squared_error(y_test, base_preds))\n",
    "print('Base R^2 Score:', r2_score(y_test, base_preds))"
   ]
  },
  {
   "cell_type": "code",
   "execution_count": 6,
   "metadata": {},
   "outputs": [],
   "source": [
    "scaler = StandardScaler()\n",
    "X_train_scaled = scaler.fit_transform(X_train)\n",
    "X_test_scaled = scaler.transform(X_test)"
   ]
  },
  {
   "cell_type": "code",
   "execution_count": 7,
   "metadata": {},
   "outputs": [
    {
     "name": "stdout",
     "output_type": "stream",
     "text": [
      "Base MSE: 1.5854491022049804\n",
      "Base R^2 Score: 0.21685720352690896\n"
     ]
    }
   ],
   "source": [
    "lr.fit(X_train_scaled, y_train)\n",
    "base_preds = lr.predict(X_test_scaled)\n",
    "print('Base MSE:', mean_squared_error(y_test, base_preds))\n",
    "print('Base R^2 Score:', r2_score(y_test, base_preds))"
   ]
  },
  {
   "cell_type": "markdown",
   "metadata": {},
   "source": [
    "### Model Improvement Testing"
   ]
  },
  {
   "cell_type": "code",
   "execution_count": 8,
   "metadata": {},
   "outputs": [
    {
     "name": "stdout",
     "output_type": "stream",
     "text": [
      "LassoCV(alphas=None, copy_X=True, cv=5, eps=0.001, fit_intercept=True,\n",
      "    max_iter=1000, n_alphas=100, n_jobs=None, normalize=False,\n",
      "    positive=False, precompute='auto', random_state=None,\n",
      "    selection='cyclic', tol=0.0001, verbose=False)\n",
      "MSE: 1.5853336267080753\n",
      "R2: 0.2169142433924237\n"
     ]
    }
   ],
   "source": [
    "lasso = LassoCV(cv=5)\n",
    "create_model(lasso, X_train_scaled, y_train, X_test_scaled, y_test)"
   ]
  },
  {
   "cell_type": "code",
   "execution_count": 9,
   "metadata": {},
   "outputs": [
    {
     "name": "stdout",
     "output_type": "stream",
     "text": [
      "RidgeCV(alphas=array([ 0.1,  1. , 10. ]), cv=None, fit_intercept=True,\n",
      "    gcv_mode=None, normalize=False, scoring=None, store_cv_values=False)\n",
      "MSE: 1.5854458239079268\n",
      "R2: 0.21685882286285518\n"
     ]
    }
   ],
   "source": [
    "ridge = RidgeCV()\n",
    "create_model(ridge, X_train_scaled, y_train, X_test_scaled, y_test)"
   ]
  },
  {
   "cell_type": "code",
   "execution_count": 10,
   "metadata": {},
   "outputs": [
    {
     "name": "stdout",
     "output_type": "stream",
     "text": [
      "RandomForestRegressor(bootstrap=True, criterion='mse', max_depth=None,\n",
      "           max_features='auto', max_leaf_nodes=None,\n",
      "           min_impurity_decrease=0.0, min_impurity_split=None,\n",
      "           min_samples_leaf=1, min_samples_split=2,\n",
      "           min_weight_fraction_leaf=0.0, n_estimators=100, n_jobs=None,\n",
      "           oob_score=False, random_state=42, verbose=0, warm_start=False)\n",
      "MSE: 1.3880139331356636\n",
      "R2: 0.3143815770385171\n"
     ]
    }
   ],
   "source": [
    "forest = RandomForestRegressor(n_estimators=100, random_state=42)\n",
    "create_model(forest, X_train_scaled, y_train, X_test_scaled, y_test)"
   ]
  },
  {
   "cell_type": "code",
   "execution_count": 11,
   "metadata": {},
   "outputs": [
    {
     "name": "stdout",
     "output_type": "stream",
     "text": [
      "GradientBoostingRegressor(alpha=0.9, criterion='friedman_mse', init=None,\n",
      "             learning_rate=0.1, loss='ls', max_depth=3, max_features=None,\n",
      "             max_leaf_nodes=None, min_impurity_decrease=0.0,\n",
      "             min_impurity_split=None, min_samples_leaf=1,\n",
      "             min_samples_split=2, min_weight_fraction_leaf=0.0,\n",
      "             n_estimators=100, n_iter_no_change=None, presort='auto',\n",
      "             random_state=None, subsample=1.0, tol=0.0001,\n",
      "             validation_fraction=0.1, verbose=0, warm_start=False)\n",
      "MSE: 1.3397322786438657\n",
      "R2: 0.3382306112739696\n"
     ]
    }
   ],
   "source": [
    "gradient = GradientBoostingRegressor()\n",
    "create_model(gradient, X_train_scaled, y_train, X_test_scaled, y_test)"
   ]
  },
  {
   "cell_type": "code",
   "execution_count": 12,
   "metadata": {},
   "outputs": [
    {
     "name": "stdout",
     "output_type": "stream",
     "text": [
      "Random Forest Gridsearch\n",
      "BEST PARAMS:\n",
      "{'max_depth': None, 'max_features': 'sqrt', 'n_estimators': 100}\n",
      "\n",
      "Best R2 Score: 0.3381\n"
     ]
    },
    {
     "data": {
      "text/plain": [
       "RandomForestRegressor(bootstrap=True, criterion='mse', max_depth=None,\n",
       "           max_features='sqrt', max_leaf_nodes=None,\n",
       "           min_impurity_decrease=0.0, min_impurity_split=None,\n",
       "           min_samples_leaf=1, min_samples_split=2,\n",
       "           min_weight_fraction_leaf=0.0, n_estimators=100, n_jobs=None,\n",
       "           oob_score=False, random_state=None, verbose=0, warm_start=False)"
      ]
     },
     "execution_count": 12,
     "metadata": {},
     "output_type": "execute_result"
    }
   ],
   "source": [
    "grid_forest = RandomForestRegressor()\n",
    "forest_params = {\n",
    "    'n_estimators': [10, 50, 100],\n",
    "    'max_depth': [None, 2, 4, 5],\n",
    "    'max_features': ['auto', 'sqrt', 'log2', None]\n",
    "}\n",
    "gridsearch_model(grid_forest, X_train_scaled, y_train, X_test_scaled,\n",
    "                 y_test, forest_params, title='Random Forest Gridsearch')"
   ]
  },
  {
   "cell_type": "code",
   "execution_count": 18,
   "metadata": {
    "scrolled": true
   },
   "outputs": [
    {
     "name": "stdout",
     "output_type": "stream",
     "text": [
      "Fitting 3 folds for each of 54 candidates, totalling 162 fits\n",
      "[CV] learning_rate=0.1, max_depth=None, max_features=auto, n_estimators=50 \n"
     ]
    },
    {
     "name": "stderr",
     "output_type": "stream",
     "text": [
      "[Parallel(n_jobs=1)]: Using backend SequentialBackend with 1 concurrent workers.\n"
     ]
    },
    {
     "name": "stdout",
     "output_type": "stream",
     "text": [
      "[CV]  learning_rate=0.1, max_depth=None, max_features=auto, n_estimators=50, score=-0.21761966713421743, total=11.6min\n",
      "[CV] learning_rate=0.1, max_depth=None, max_features=auto, n_estimators=50 \n"
     ]
    },
    {
     "name": "stderr",
     "output_type": "stream",
     "text": [
      "[Parallel(n_jobs=1)]: Done   1 out of   1 | elapsed: 11.6min remaining:    0.0s\n"
     ]
    },
    {
     "name": "stdout",
     "output_type": "stream",
     "text": [
      "[CV]  learning_rate=0.1, max_depth=None, max_features=auto, n_estimators=50, score=-0.21962561082336896, total=11.8min\n",
      "[CV] learning_rate=0.1, max_depth=None, max_features=auto, n_estimators=50 \n"
     ]
    },
    {
     "name": "stderr",
     "output_type": "stream",
     "text": [
      "[Parallel(n_jobs=1)]: Done   2 out of   2 | elapsed: 23.4min remaining:    0.0s\n"
     ]
    },
    {
     "name": "stdout",
     "output_type": "stream",
     "text": [
      "[CV]  learning_rate=0.1, max_depth=None, max_features=auto, n_estimators=50, score=-0.20420889111919793, total=11.7min\n",
      "[CV] learning_rate=0.1, max_depth=None, max_features=auto, n_estimators=100 \n"
     ]
    },
    {
     "name": "stderr",
     "output_type": "stream",
     "text": [
      "[Parallel(n_jobs=1)]: Done   3 out of   3 | elapsed: 35.0min remaining:    0.0s\n"
     ]
    },
    {
     "name": "stdout",
     "output_type": "stream",
     "text": [
      "[CV]  learning_rate=0.1, max_depth=None, max_features=auto, n_estimators=100, score=-0.22440115650869497, total=17.5min\n",
      "[CV] learning_rate=0.1, max_depth=None, max_features=auto, n_estimators=100 \n"
     ]
    },
    {
     "name": "stderr",
     "output_type": "stream",
     "text": [
      "[Parallel(n_jobs=1)]: Done   4 out of   4 | elapsed: 52.5min remaining:    0.0s\n"
     ]
    },
    {
     "name": "stdout",
     "output_type": "stream",
     "text": [
      "[CV]  learning_rate=0.1, max_depth=None, max_features=auto, n_estimators=100, score=-0.2256465860748258, total=16.0min\n",
      "[CV] learning_rate=0.1, max_depth=None, max_features=auto, n_estimators=100 \n",
      "[CV]  learning_rate=0.1, max_depth=None, max_features=auto, n_estimators=100, score=-0.2078828688849228, total=13.5min\n",
      "[CV] learning_rate=0.1, max_depth=None, max_features=auto, n_estimators=200 \n",
      "[CV]  learning_rate=0.1, max_depth=None, max_features=auto, n_estimators=200, score=-0.22316969253186647, total=20.0min\n",
      "[CV] learning_rate=0.1, max_depth=None, max_features=auto, n_estimators=200 \n",
      "[CV]  learning_rate=0.1, max_depth=None, max_features=auto, n_estimators=200, score=-0.22334493874685046, total=19.8min\n",
      "[CV] learning_rate=0.1, max_depth=None, max_features=auto, n_estimators=200 \n",
      "[CV]  learning_rate=0.1, max_depth=None, max_features=auto, n_estimators=200, score=-0.21178799982519947, total=19.3min\n",
      "[CV] learning_rate=0.1, max_depth=None, max_features=sqrt, n_estimators=50 \n",
      "[CV]  learning_rate=0.1, max_depth=None, max_features=sqrt, n_estimators=50, score=0.2942614794218714, total= 2.8min\n",
      "[CV] learning_rate=0.1, max_depth=None, max_features=sqrt, n_estimators=50 \n",
      "[CV]  learning_rate=0.1, max_depth=None, max_features=sqrt, n_estimators=50, score=0.29398405200306754, total= 2.8min\n",
      "[CV] learning_rate=0.1, max_depth=None, max_features=sqrt, n_estimators=50 \n",
      "[CV]  learning_rate=0.1, max_depth=None, max_features=sqrt, n_estimators=50, score=0.28093188595777674, total= 2.8min\n",
      "[CV] learning_rate=0.1, max_depth=None, max_features=sqrt, n_estimators=100 \n",
      "[CV]  learning_rate=0.1, max_depth=None, max_features=sqrt, n_estimators=100, score=0.3007240972615768, total= 4.2min\n",
      "[CV] learning_rate=0.1, max_depth=None, max_features=sqrt, n_estimators=100 \n",
      "[CV]  learning_rate=0.1, max_depth=None, max_features=sqrt, n_estimators=100, score=0.2938266735058094, total= 4.4min\n",
      "[CV] learning_rate=0.1, max_depth=None, max_features=sqrt, n_estimators=100 \n",
      "[CV]  learning_rate=0.1, max_depth=None, max_features=sqrt, n_estimators=100, score=0.2817922139953166, total= 4.3min\n",
      "[CV] learning_rate=0.1, max_depth=None, max_features=sqrt, n_estimators=200 \n",
      "[CV]  learning_rate=0.1, max_depth=None, max_features=sqrt, n_estimators=200, score=0.29558034049495296, total= 5.0min\n",
      "[CV] learning_rate=0.1, max_depth=None, max_features=sqrt, n_estimators=200 \n",
      "[CV]  learning_rate=0.1, max_depth=None, max_features=sqrt, n_estimators=200, score=0.2952890002763421, total= 5.0min\n",
      "[CV] learning_rate=0.1, max_depth=None, max_features=sqrt, n_estimators=200 \n",
      "[CV]  learning_rate=0.1, max_depth=None, max_features=sqrt, n_estimators=200, score=0.284598764565558, total= 4.6min\n",
      "[CV] learning_rate=0.1, max_depth=None, max_features=None, n_estimators=50 \n",
      "[CV]  learning_rate=0.1, max_depth=None, max_features=None, n_estimators=50, score=-0.2185117473840006, total= 9.3min\n",
      "[CV] learning_rate=0.1, max_depth=None, max_features=None, n_estimators=50 \n",
      "[CV]  learning_rate=0.1, max_depth=None, max_features=None, n_estimators=50, score=-0.21941861366024762, total= 9.4min\n",
      "[CV] learning_rate=0.1, max_depth=None, max_features=None, n_estimators=50 \n",
      "[CV]  learning_rate=0.1, max_depth=None, max_features=None, n_estimators=50, score=-0.20476209204202633, total= 9.1min\n",
      "[CV] learning_rate=0.1, max_depth=None, max_features=None, n_estimators=100 \n",
      "[CV]  learning_rate=0.1, max_depth=None, max_features=None, n_estimators=100, score=-0.22147315285185099, total=13.8min\n",
      "[CV] learning_rate=0.1, max_depth=None, max_features=None, n_estimators=100 \n",
      "[CV]  learning_rate=0.1, max_depth=None, max_features=None, n_estimators=100, score=-0.22238462683753535, total=13.7min\n",
      "[CV] learning_rate=0.1, max_depth=None, max_features=None, n_estimators=100 \n",
      "[CV]  learning_rate=0.1, max_depth=None, max_features=None, n_estimators=100, score=-0.2105391977814608, total=13.9min\n",
      "[CV] learning_rate=0.1, max_depth=None, max_features=None, n_estimators=200 \n",
      "[CV]  learning_rate=0.1, max_depth=None, max_features=None, n_estimators=200, score=-0.22363864528459954, total=18.7min\n",
      "[CV] learning_rate=0.1, max_depth=None, max_features=None, n_estimators=200 \n",
      "[CV]  learning_rate=0.1, max_depth=None, max_features=None, n_estimators=200, score=-0.22461506611523685, total=18.7min\n",
      "[CV] learning_rate=0.1, max_depth=None, max_features=None, n_estimators=200 \n",
      "[CV]  learning_rate=0.1, max_depth=None, max_features=None, n_estimators=200, score=-0.21110833184223465, total=18.3min\n",
      "[CV] learning_rate=0.1, max_depth=2, max_features=auto, n_estimators=50 \n",
      "[CV]  learning_rate=0.1, max_depth=2, max_features=auto, n_estimators=50, score=0.3136116005448898, total=   3.3s\n",
      "[CV] learning_rate=0.1, max_depth=2, max_features=auto, n_estimators=50 \n",
      "[CV]  learning_rate=0.1, max_depth=2, max_features=auto, n_estimators=50, score=0.3203575651825298, total=   3.3s\n",
      "[CV] learning_rate=0.1, max_depth=2, max_features=auto, n_estimators=50 \n",
      "[CV]  learning_rate=0.1, max_depth=2, max_features=auto, n_estimators=50, score=0.30384646334602816, total=   3.3s\n",
      "[CV] learning_rate=0.1, max_depth=2, max_features=auto, n_estimators=100 \n",
      "[CV]  learning_rate=0.1, max_depth=2, max_features=auto, n_estimators=100, score=0.3329231713472781, total=   6.5s\n",
      "[CV] learning_rate=0.1, max_depth=2, max_features=auto, n_estimators=100 \n",
      "[CV]  learning_rate=0.1, max_depth=2, max_features=auto, n_estimators=100, score=0.3411892813862293, total=   6.4s\n",
      "[CV] learning_rate=0.1, max_depth=2, max_features=auto, n_estimators=100 \n",
      "[CV]  learning_rate=0.1, max_depth=2, max_features=auto, n_estimators=100, score=0.3210284303165002, total=   6.5s\n",
      "[CV] learning_rate=0.1, max_depth=2, max_features=auto, n_estimators=200 \n",
      "[CV]  learning_rate=0.1, max_depth=2, max_features=auto, n_estimators=200, score=0.3438203853119114, total=  12.8s\n",
      "[CV] learning_rate=0.1, max_depth=2, max_features=auto, n_estimators=200 \n",
      "[CV]  learning_rate=0.1, max_depth=2, max_features=auto, n_estimators=200, score=0.35149726882411503, total=  12.6s\n",
      "[CV] learning_rate=0.1, max_depth=2, max_features=auto, n_estimators=200 \n",
      "[CV]  learning_rate=0.1, max_depth=2, max_features=auto, n_estimators=200, score=0.331089803400904, total=  12.7s\n",
      "[CV] learning_rate=0.1, max_depth=2, max_features=sqrt, n_estimators=50 \n",
      "[CV]  learning_rate=0.1, max_depth=2, max_features=sqrt, n_estimators=50, score=0.28417296076120646, total=   0.5s\n",
      "[CV] learning_rate=0.1, max_depth=2, max_features=sqrt, n_estimators=50 \n",
      "[CV]  learning_rate=0.1, max_depth=2, max_features=sqrt, n_estimators=50, score=0.27959246334486143, total=   0.5s\n",
      "[CV] learning_rate=0.1, max_depth=2, max_features=sqrt, n_estimators=50 \n",
      "[CV]  learning_rate=0.1, max_depth=2, max_features=sqrt, n_estimators=50, score=0.2556069058869854, total=   0.5s\n",
      "[CV] learning_rate=0.1, max_depth=2, max_features=sqrt, n_estimators=100 \n",
      "[CV]  learning_rate=0.1, max_depth=2, max_features=sqrt, n_estimators=100, score=0.3055558349231223, total=   1.0s\n",
      "[CV] learning_rate=0.1, max_depth=2, max_features=sqrt, n_estimators=100 \n",
      "[CV]  learning_rate=0.1, max_depth=2, max_features=sqrt, n_estimators=100, score=0.316313645311723, total=   1.0s\n",
      "[CV] learning_rate=0.1, max_depth=2, max_features=sqrt, n_estimators=100 \n",
      "[CV]  learning_rate=0.1, max_depth=2, max_features=sqrt, n_estimators=100, score=0.2966517401233325, total=   1.0s\n",
      "[CV] learning_rate=0.1, max_depth=2, max_features=sqrt, n_estimators=200 \n",
      "[CV]  learning_rate=0.1, max_depth=2, max_features=sqrt, n_estimators=200, score=0.3242197490329696, total=   1.9s\n",
      "[CV] learning_rate=0.1, max_depth=2, max_features=sqrt, n_estimators=200 \n",
      "[CV]  learning_rate=0.1, max_depth=2, max_features=sqrt, n_estimators=200, score=0.33554773859804343, total=   1.9s\n",
      "[CV] learning_rate=0.1, max_depth=2, max_features=sqrt, n_estimators=200 \n",
      "[CV]  learning_rate=0.1, max_depth=2, max_features=sqrt, n_estimators=200, score=0.32432046771606904, total=   1.8s\n",
      "[CV] learning_rate=0.1, max_depth=2, max_features=None, n_estimators=50 \n",
      "[CV]  learning_rate=0.1, max_depth=2, max_features=None, n_estimators=50, score=0.3136116005448898, total=   3.3s\n",
      "[CV] learning_rate=0.1, max_depth=2, max_features=None, n_estimators=50 \n",
      "[CV]  learning_rate=0.1, max_depth=2, max_features=None, n_estimators=50, score=0.3203575651825298, total=   3.4s\n",
      "[CV] learning_rate=0.1, max_depth=2, max_features=None, n_estimators=50 \n"
     ]
    },
    {
     "name": "stdout",
     "output_type": "stream",
     "text": [
      "[CV]  learning_rate=0.1, max_depth=2, max_features=None, n_estimators=50, score=0.30384646334602816, total=   3.3s\n",
      "[CV] learning_rate=0.1, max_depth=2, max_features=None, n_estimators=100 \n",
      "[CV]  learning_rate=0.1, max_depth=2, max_features=None, n_estimators=100, score=0.3329231713472781, total=   6.5s\n",
      "[CV] learning_rate=0.1, max_depth=2, max_features=None, n_estimators=100 \n",
      "[CV]  learning_rate=0.1, max_depth=2, max_features=None, n_estimators=100, score=0.3411892813862293, total=   6.6s\n",
      "[CV] learning_rate=0.1, max_depth=2, max_features=None, n_estimators=100 \n",
      "[CV]  learning_rate=0.1, max_depth=2, max_features=None, n_estimators=100, score=0.3210284303165003, total=   6.5s\n",
      "[CV] learning_rate=0.1, max_depth=2, max_features=None, n_estimators=200 \n",
      "[CV]  learning_rate=0.1, max_depth=2, max_features=None, n_estimators=200, score=0.3438203853119114, total=  12.6s\n",
      "[CV] learning_rate=0.1, max_depth=2, max_features=None, n_estimators=200 \n",
      "[CV]  learning_rate=0.1, max_depth=2, max_features=None, n_estimators=200, score=0.35149726882411503, total=  12.7s\n",
      "[CV] learning_rate=0.1, max_depth=2, max_features=None, n_estimators=200 \n",
      "[CV]  learning_rate=0.1, max_depth=2, max_features=None, n_estimators=200, score=0.331089803400904, total=  12.6s\n",
      "[CV] learning_rate=0.1, max_depth=5, max_features=auto, n_estimators=50 \n",
      "[CV]  learning_rate=0.1, max_depth=5, max_features=auto, n_estimators=50, score=0.34892752422136897, total=  10.9s\n",
      "[CV] learning_rate=0.1, max_depth=5, max_features=auto, n_estimators=50 \n",
      "[CV]  learning_rate=0.1, max_depth=5, max_features=auto, n_estimators=50, score=0.35720234988739996, total=  10.8s\n",
      "[CV] learning_rate=0.1, max_depth=5, max_features=auto, n_estimators=50 \n",
      "[CV]  learning_rate=0.1, max_depth=5, max_features=auto, n_estimators=50, score=0.33612027869935834, total=  10.8s\n",
      "[CV] learning_rate=0.1, max_depth=5, max_features=auto, n_estimators=100 \n",
      "[CV]  learning_rate=0.1, max_depth=5, max_features=auto, n_estimators=100, score=0.35568414898843137, total=  20.2s\n",
      "[CV] learning_rate=0.1, max_depth=5, max_features=auto, n_estimators=100 \n",
      "[CV]  learning_rate=0.1, max_depth=5, max_features=auto, n_estimators=100, score=0.36369882883458704, total=  20.2s\n",
      "[CV] learning_rate=0.1, max_depth=5, max_features=auto, n_estimators=100 \n",
      "[CV]  learning_rate=0.1, max_depth=5, max_features=auto, n_estimators=100, score=0.34500286682616166, total=  20.1s\n",
      "[CV] learning_rate=0.1, max_depth=5, max_features=auto, n_estimators=200 \n",
      "[CV]  learning_rate=0.1, max_depth=5, max_features=auto, n_estimators=200, score=0.3572288508835433, total=  37.7s\n",
      "[CV] learning_rate=0.1, max_depth=5, max_features=auto, n_estimators=200 \n",
      "[CV]  learning_rate=0.1, max_depth=5, max_features=auto, n_estimators=200, score=0.3641634346379786, total=  37.0s\n",
      "[CV] learning_rate=0.1, max_depth=5, max_features=auto, n_estimators=200 \n",
      "[CV]  learning_rate=0.1, max_depth=5, max_features=auto, n_estimators=200, score=0.34832349598853274, total=  38.3s\n",
      "[CV] learning_rate=0.1, max_depth=5, max_features=sqrt, n_estimators=50 \n",
      "[CV]  learning_rate=0.1, max_depth=5, max_features=sqrt, n_estimators=50, score=0.32151851230367845, total=   1.3s\n",
      "[CV] learning_rate=0.1, max_depth=5, max_features=sqrt, n_estimators=50 \n",
      "[CV]  learning_rate=0.1, max_depth=5, max_features=sqrt, n_estimators=50, score=0.3263709867761626, total=   1.4s\n",
      "[CV] learning_rate=0.1, max_depth=5, max_features=sqrt, n_estimators=50 \n",
      "[CV]  learning_rate=0.1, max_depth=5, max_features=sqrt, n_estimators=50, score=0.32353714107112486, total=   1.4s\n",
      "[CV] learning_rate=0.1, max_depth=5, max_features=sqrt, n_estimators=100 \n",
      "[CV]  learning_rate=0.1, max_depth=5, max_features=sqrt, n_estimators=100, score=0.3464855628436204, total=   2.6s\n",
      "[CV] learning_rate=0.1, max_depth=5, max_features=sqrt, n_estimators=100 \n",
      "[CV]  learning_rate=0.1, max_depth=5, max_features=sqrt, n_estimators=100, score=0.3497245571334414, total=   2.6s\n",
      "[CV] learning_rate=0.1, max_depth=5, max_features=sqrt, n_estimators=100 \n",
      "[CV]  learning_rate=0.1, max_depth=5, max_features=sqrt, n_estimators=100, score=0.337651807967401, total=   2.6s\n",
      "[CV] learning_rate=0.1, max_depth=5, max_features=sqrt, n_estimators=200 \n",
      "[CV]  learning_rate=0.1, max_depth=5, max_features=sqrt, n_estimators=200, score=0.35056871074056095, total=   4.9s\n",
      "[CV] learning_rate=0.1, max_depth=5, max_features=sqrt, n_estimators=200 \n",
      "[CV]  learning_rate=0.1, max_depth=5, max_features=sqrt, n_estimators=200, score=0.36012021704687847, total=   5.0s\n",
      "[CV] learning_rate=0.1, max_depth=5, max_features=sqrt, n_estimators=200 \n",
      "[CV]  learning_rate=0.1, max_depth=5, max_features=sqrt, n_estimators=200, score=0.34345431670233273, total=   5.0s\n",
      "[CV] learning_rate=0.1, max_depth=5, max_features=None, n_estimators=50 \n",
      "[CV]  learning_rate=0.1, max_depth=5, max_features=None, n_estimators=50, score=0.3490470304890956, total=  10.6s\n",
      "[CV] learning_rate=0.1, max_depth=5, max_features=None, n_estimators=50 \n",
      "[CV]  learning_rate=0.1, max_depth=5, max_features=None, n_estimators=50, score=0.35693339435568083, total=  10.5s\n",
      "[CV] learning_rate=0.1, max_depth=5, max_features=None, n_estimators=50 \n",
      "[CV]  learning_rate=0.1, max_depth=5, max_features=None, n_estimators=50, score=0.33623476766067184, total=  10.7s\n",
      "[CV] learning_rate=0.1, max_depth=5, max_features=None, n_estimators=100 \n",
      "[CV]  learning_rate=0.1, max_depth=5, max_features=None, n_estimators=100, score=0.3557586317464422, total=  19.8s\n",
      "[CV] learning_rate=0.1, max_depth=5, max_features=None, n_estimators=100 \n",
      "[CV]  learning_rate=0.1, max_depth=5, max_features=None, n_estimators=100, score=0.36368500579339225, total=  19.9s\n",
      "[CV] learning_rate=0.1, max_depth=5, max_features=None, n_estimators=100 \n",
      "[CV]  learning_rate=0.1, max_depth=5, max_features=None, n_estimators=100, score=0.34500713648409775, total=  20.4s\n",
      "[CV] learning_rate=0.1, max_depth=5, max_features=None, n_estimators=200 \n",
      "[CV]  learning_rate=0.1, max_depth=5, max_features=None, n_estimators=200, score=0.3570777073510263, total=  38.0s\n",
      "[CV] learning_rate=0.1, max_depth=5, max_features=None, n_estimators=200 \n",
      "[CV]  learning_rate=0.1, max_depth=5, max_features=None, n_estimators=200, score=0.36385395570916, total=  38.3s\n",
      "[CV] learning_rate=0.1, max_depth=5, max_features=None, n_estimators=200 \n",
      "[CV]  learning_rate=0.1, max_depth=5, max_features=None, n_estimators=200, score=0.34866263364161365, total=  38.7s\n",
      "[CV] learning_rate=0.5, max_depth=None, max_features=auto, n_estimators=50 \n",
      "[CV]  learning_rate=0.5, max_depth=None, max_features=auto, n_estimators=50, score=-0.25400795475287286, total= 3.7min\n",
      "[CV] learning_rate=0.5, max_depth=None, max_features=auto, n_estimators=50 \n",
      "[CV]  learning_rate=0.5, max_depth=None, max_features=auto, n_estimators=50, score=-0.25196830811615967, total= 3.7min\n",
      "[CV] learning_rate=0.5, max_depth=None, max_features=auto, n_estimators=50 \n",
      "[CV]  learning_rate=0.5, max_depth=None, max_features=auto, n_estimators=50, score=-0.2398364318469668, total= 3.6min\n",
      "[CV] learning_rate=0.5, max_depth=None, max_features=auto, n_estimators=100 \n",
      "[CV]  learning_rate=0.5, max_depth=None, max_features=auto, n_estimators=100, score=-0.24720909074661757, total= 5.7min\n",
      "[CV] learning_rate=0.5, max_depth=None, max_features=auto, n_estimators=100 \n",
      "[CV]  learning_rate=0.5, max_depth=None, max_features=auto, n_estimators=100, score=-0.2526153342959476, total= 5.9min\n",
      "[CV] learning_rate=0.5, max_depth=None, max_features=auto, n_estimators=100 \n",
      "[CV]  learning_rate=0.5, max_depth=None, max_features=auto, n_estimators=100, score=-0.23850473299220365, total= 5.4min\n",
      "[CV] learning_rate=0.5, max_depth=None, max_features=auto, n_estimators=200 \n",
      "[CV]  learning_rate=0.5, max_depth=None, max_features=auto, n_estimators=200, score=-0.24589627729814967, total= 9.3min\n",
      "[CV] learning_rate=0.5, max_depth=None, max_features=auto, n_estimators=200 \n",
      "[CV]  learning_rate=0.5, max_depth=None, max_features=auto, n_estimators=200, score=-0.25472953875738047, total= 9.9min\n",
      "[CV] learning_rate=0.5, max_depth=None, max_features=auto, n_estimators=200 \n",
      "[CV]  learning_rate=0.5, max_depth=None, max_features=auto, n_estimators=200, score=-0.23573305224392338, total= 9.1min\n",
      "[CV] learning_rate=0.5, max_depth=None, max_features=sqrt, n_estimators=50 \n",
      "[CV]  learning_rate=0.5, max_depth=None, max_features=sqrt, n_estimators=50, score=0.12769260152040218, total=  53.5s\n",
      "[CV] learning_rate=0.5, max_depth=None, max_features=sqrt, n_estimators=50 \n"
     ]
    },
    {
     "name": "stdout",
     "output_type": "stream",
     "text": [
      "[CV]  learning_rate=0.5, max_depth=None, max_features=sqrt, n_estimators=50, score=0.12052678033854602, total=  51.9s\n",
      "[CV] learning_rate=0.5, max_depth=None, max_features=sqrt, n_estimators=50 \n",
      "[CV]  learning_rate=0.5, max_depth=None, max_features=sqrt, n_estimators=50, score=0.10480441635640125, total=  53.3s\n",
      "[CV] learning_rate=0.5, max_depth=None, max_features=sqrt, n_estimators=100 \n",
      "[CV]  learning_rate=0.5, max_depth=None, max_features=sqrt, n_estimators=100, score=0.11807877754914531, total= 1.2min\n",
      "[CV] learning_rate=0.5, max_depth=None, max_features=sqrt, n_estimators=100 \n",
      "[CV]  learning_rate=0.5, max_depth=None, max_features=sqrt, n_estimators=100, score=0.12520685218219763, total= 1.2min\n",
      "[CV] learning_rate=0.5, max_depth=None, max_features=sqrt, n_estimators=100 \n",
      "[CV]  learning_rate=0.5, max_depth=None, max_features=sqrt, n_estimators=100, score=0.11141290565748307, total= 1.1min\n",
      "[CV] learning_rate=0.5, max_depth=None, max_features=sqrt, n_estimators=200 \n",
      "[CV]  learning_rate=0.5, max_depth=None, max_features=sqrt, n_estimators=200, score=0.10305200135204928, total= 1.8min\n",
      "[CV] learning_rate=0.5, max_depth=None, max_features=sqrt, n_estimators=200 \n",
      "[CV]  learning_rate=0.5, max_depth=None, max_features=sqrt, n_estimators=200, score=0.1139991319219027, total= 1.8min\n",
      "[CV] learning_rate=0.5, max_depth=None, max_features=sqrt, n_estimators=200 \n",
      "[CV]  learning_rate=0.5, max_depth=None, max_features=sqrt, n_estimators=200, score=0.09162051957930473, total= 1.8min\n",
      "[CV] learning_rate=0.5, max_depth=None, max_features=None, n_estimators=50 \n",
      "[CV]  learning_rate=0.5, max_depth=None, max_features=None, n_estimators=50, score=-0.25074804763607417, total= 3.7min\n",
      "[CV] learning_rate=0.5, max_depth=None, max_features=None, n_estimators=50 \n",
      "[CV]  learning_rate=0.5, max_depth=None, max_features=None, n_estimators=50, score=-0.2575369260524518, total= 3.7min\n",
      "[CV] learning_rate=0.5, max_depth=None, max_features=None, n_estimators=50 \n",
      "[CV]  learning_rate=0.5, max_depth=None, max_features=None, n_estimators=50, score=-0.23135789216799574, total= 3.5min\n",
      "[CV] learning_rate=0.5, max_depth=None, max_features=None, n_estimators=100 \n",
      "[CV]  learning_rate=0.5, max_depth=None, max_features=None, n_estimators=100, score=-0.2504969374972499, total= 5.6min\n",
      "[CV] learning_rate=0.5, max_depth=None, max_features=None, n_estimators=100 \n",
      "[CV]  learning_rate=0.5, max_depth=None, max_features=None, n_estimators=100, score=-0.25894213737941074, total= 5.8min\n",
      "[CV] learning_rate=0.5, max_depth=None, max_features=None, n_estimators=100 \n",
      "[CV]  learning_rate=0.5, max_depth=None, max_features=None, n_estimators=100, score=-0.2420175927442605, total= 5.5min\n",
      "[CV] learning_rate=0.5, max_depth=None, max_features=None, n_estimators=200 \n",
      "[CV]  learning_rate=0.5, max_depth=None, max_features=None, n_estimators=200, score=-0.2596683661064585, total= 9.7min\n",
      "[CV] learning_rate=0.5, max_depth=None, max_features=None, n_estimators=200 \n",
      "[CV]  learning_rate=0.5, max_depth=None, max_features=None, n_estimators=200, score=-0.2537792642626766, total= 9.9min\n",
      "[CV] learning_rate=0.5, max_depth=None, max_features=None, n_estimators=200 \n",
      "[CV]  learning_rate=0.5, max_depth=None, max_features=None, n_estimators=200, score=-0.2384542294109553, total= 8.8min\n",
      "[CV] learning_rate=0.5, max_depth=2, max_features=auto, n_estimators=50 \n",
      "[CV]  learning_rate=0.5, max_depth=2, max_features=auto, n_estimators=50, score=0.3389633071313851, total=   3.2s\n",
      "[CV] learning_rate=0.5, max_depth=2, max_features=auto, n_estimators=50 \n",
      "[CV]  learning_rate=0.5, max_depth=2, max_features=auto, n_estimators=50, score=0.35220766350983324, total=   3.1s\n",
      "[CV] learning_rate=0.5, max_depth=2, max_features=auto, n_estimators=50 \n",
      "[CV]  learning_rate=0.5, max_depth=2, max_features=auto, n_estimators=50, score=0.3272538829538737, total=   3.2s\n",
      "[CV] learning_rate=0.5, max_depth=2, max_features=auto, n_estimators=100 \n",
      "[CV]  learning_rate=0.5, max_depth=2, max_features=auto, n_estimators=100, score=0.34523212744206566, total=   6.2s\n",
      "[CV] learning_rate=0.5, max_depth=2, max_features=auto, n_estimators=100 \n",
      "[CV]  learning_rate=0.5, max_depth=2, max_features=auto, n_estimators=100, score=0.3571630988483677, total=   6.2s\n",
      "[CV] learning_rate=0.5, max_depth=2, max_features=auto, n_estimators=100 \n",
      "[CV]  learning_rate=0.5, max_depth=2, max_features=auto, n_estimators=100, score=0.33353991107081493, total=   6.2s\n",
      "[CV] learning_rate=0.5, max_depth=2, max_features=auto, n_estimators=200 \n",
      "[CV]  learning_rate=0.5, max_depth=2, max_features=auto, n_estimators=200, score=0.34947296572961695, total=  12.4s\n",
      "[CV] learning_rate=0.5, max_depth=2, max_features=auto, n_estimators=200 \n",
      "[CV]  learning_rate=0.5, max_depth=2, max_features=auto, n_estimators=200, score=0.359800458369143, total=  12.3s\n",
      "[CV] learning_rate=0.5, max_depth=2, max_features=auto, n_estimators=200 \n",
      "[CV]  learning_rate=0.5, max_depth=2, max_features=auto, n_estimators=200, score=0.3391390038015266, total=  12.5s\n",
      "[CV] learning_rate=0.5, max_depth=2, max_features=sqrt, n_estimators=50 \n",
      "[CV]  learning_rate=0.5, max_depth=2, max_features=sqrt, n_estimators=50, score=0.32127602674874955, total=   0.5s\n",
      "[CV] learning_rate=0.5, max_depth=2, max_features=sqrt, n_estimators=50 \n",
      "[CV]  learning_rate=0.5, max_depth=2, max_features=sqrt, n_estimators=50, score=0.3261445723070966, total=   0.5s\n",
      "[CV] learning_rate=0.5, max_depth=2, max_features=sqrt, n_estimators=50 \n",
      "[CV]  learning_rate=0.5, max_depth=2, max_features=sqrt, n_estimators=50, score=0.31502823252375156, total=   0.5s\n",
      "[CV] learning_rate=0.5, max_depth=2, max_features=sqrt, n_estimators=100 \n",
      "[CV]  learning_rate=0.5, max_depth=2, max_features=sqrt, n_estimators=100, score=0.3373272370164262, total=   0.9s\n",
      "[CV] learning_rate=0.5, max_depth=2, max_features=sqrt, n_estimators=100 \n",
      "[CV]  learning_rate=0.5, max_depth=2, max_features=sqrt, n_estimators=100, score=0.3416149260478142, total=   0.9s\n",
      "[CV] learning_rate=0.5, max_depth=2, max_features=sqrt, n_estimators=100 \n",
      "[CV]  learning_rate=0.5, max_depth=2, max_features=sqrt, n_estimators=100, score=0.32565542747688203, total=   0.9s\n",
      "[CV] learning_rate=0.5, max_depth=2, max_features=sqrt, n_estimators=200 \n",
      "[CV]  learning_rate=0.5, max_depth=2, max_features=sqrt, n_estimators=200, score=0.34051480155439906, total=   1.8s\n",
      "[CV] learning_rate=0.5, max_depth=2, max_features=sqrt, n_estimators=200 \n",
      "[CV]  learning_rate=0.5, max_depth=2, max_features=sqrt, n_estimators=200, score=0.3467877226527588, total=   1.8s\n",
      "[CV] learning_rate=0.5, max_depth=2, max_features=sqrt, n_estimators=200 \n",
      "[CV]  learning_rate=0.5, max_depth=2, max_features=sqrt, n_estimators=200, score=0.3241837612847711, total=   1.8s\n",
      "[CV] learning_rate=0.5, max_depth=2, max_features=None, n_estimators=50 \n",
      "[CV]  learning_rate=0.5, max_depth=2, max_features=None, n_estimators=50, score=0.3389633071313851, total=   3.1s\n",
      "[CV] learning_rate=0.5, max_depth=2, max_features=None, n_estimators=50 \n",
      "[CV]  learning_rate=0.5, max_depth=2, max_features=None, n_estimators=50, score=0.35220766350983346, total=   3.1s\n",
      "[CV] learning_rate=0.5, max_depth=2, max_features=None, n_estimators=50 \n",
      "[CV]  learning_rate=0.5, max_depth=2, max_features=None, n_estimators=50, score=0.3272538829538737, total=   3.2s\n",
      "[CV] learning_rate=0.5, max_depth=2, max_features=None, n_estimators=100 \n",
      "[CV]  learning_rate=0.5, max_depth=2, max_features=None, n_estimators=100, score=0.34523212744206566, total=   6.4s\n",
      "[CV] learning_rate=0.5, max_depth=2, max_features=None, n_estimators=100 \n",
      "[CV]  learning_rate=0.5, max_depth=2, max_features=None, n_estimators=100, score=0.3571630988483677, total=   6.3s\n",
      "[CV] learning_rate=0.5, max_depth=2, max_features=None, n_estimators=100 \n",
      "[CV]  learning_rate=0.5, max_depth=2, max_features=None, n_estimators=100, score=0.33353991107081504, total=   6.2s\n",
      "[CV] learning_rate=0.5, max_depth=2, max_features=None, n_estimators=200 \n",
      "[CV]  learning_rate=0.5, max_depth=2, max_features=None, n_estimators=200, score=0.34947296572961695, total=  12.4s\n",
      "[CV] learning_rate=0.5, max_depth=2, max_features=None, n_estimators=200 \n",
      "[CV]  learning_rate=0.5, max_depth=2, max_features=None, n_estimators=200, score=0.3598004583691431, total=  12.4s\n",
      "[CV] learning_rate=0.5, max_depth=2, max_features=None, n_estimators=200 \n"
     ]
    },
    {
     "name": "stdout",
     "output_type": "stream",
     "text": [
      "[CV]  learning_rate=0.5, max_depth=2, max_features=None, n_estimators=200, score=0.33821556835256805, total=  12.4s\n",
      "[CV] learning_rate=0.5, max_depth=5, max_features=auto, n_estimators=50 \n",
      "[CV]  learning_rate=0.5, max_depth=5, max_features=auto, n_estimators=50, score=0.3374802745215809, total=   9.4s\n",
      "[CV] learning_rate=0.5, max_depth=5, max_features=auto, n_estimators=50 \n",
      "[CV]  learning_rate=0.5, max_depth=5, max_features=auto, n_estimators=50, score=0.336477970788573, total=   9.3s\n",
      "[CV] learning_rate=0.5, max_depth=5, max_features=auto, n_estimators=50 \n",
      "[CV]  learning_rate=0.5, max_depth=5, max_features=auto, n_estimators=50, score=0.3225621700174135, total=   9.5s\n",
      "[CV] learning_rate=0.5, max_depth=5, max_features=auto, n_estimators=100 \n",
      "[CV]  learning_rate=0.5, max_depth=5, max_features=auto, n_estimators=100, score=0.32710083717795413, total=  19.1s\n",
      "[CV] learning_rate=0.5, max_depth=5, max_features=auto, n_estimators=100 \n",
      "[CV]  learning_rate=0.5, max_depth=5, max_features=auto, n_estimators=100, score=0.3207018937062003, total=  18.9s\n",
      "[CV] learning_rate=0.5, max_depth=5, max_features=auto, n_estimators=100 \n",
      "[CV]  learning_rate=0.5, max_depth=5, max_features=auto, n_estimators=100, score=0.3122149348007537, total=  18.7s\n",
      "[CV] learning_rate=0.5, max_depth=5, max_features=auto, n_estimators=200 \n",
      "[CV]  learning_rate=0.5, max_depth=5, max_features=auto, n_estimators=200, score=0.2898602277715705, total=  41.0s\n",
      "[CV] learning_rate=0.5, max_depth=5, max_features=auto, n_estimators=200 \n",
      "[CV]  learning_rate=0.5, max_depth=5, max_features=auto, n_estimators=200, score=0.2940026192535613, total=  38.0s\n",
      "[CV] learning_rate=0.5, max_depth=5, max_features=auto, n_estimators=200 \n",
      "[CV]  learning_rate=0.5, max_depth=5, max_features=auto, n_estimators=200, score=0.28304003984647075, total=  37.7s\n",
      "[CV] learning_rate=0.5, max_depth=5, max_features=sqrt, n_estimators=50 \n",
      "[CV]  learning_rate=0.5, max_depth=5, max_features=sqrt, n_estimators=50, score=0.33144866127213457, total=   1.3s\n",
      "[CV] learning_rate=0.5, max_depth=5, max_features=sqrt, n_estimators=50 \n",
      "[CV]  learning_rate=0.5, max_depth=5, max_features=sqrt, n_estimators=50, score=0.33246263088379213, total=   1.3s\n",
      "[CV] learning_rate=0.5, max_depth=5, max_features=sqrt, n_estimators=50 \n",
      "[CV]  learning_rate=0.5, max_depth=5, max_features=sqrt, n_estimators=50, score=0.3094330077362434, total=   1.3s\n",
      "[CV] learning_rate=0.5, max_depth=5, max_features=sqrt, n_estimators=100 \n",
      "[CV]  learning_rate=0.5, max_depth=5, max_features=sqrt, n_estimators=100, score=0.33723336721041175, total=   2.6s\n",
      "[CV] learning_rate=0.5, max_depth=5, max_features=sqrt, n_estimators=100 \n",
      "[CV]  learning_rate=0.5, max_depth=5, max_features=sqrt, n_estimators=100, score=0.33421090307922063, total=   2.5s\n",
      "[CV] learning_rate=0.5, max_depth=5, max_features=sqrt, n_estimators=100 \n",
      "[CV]  learning_rate=0.5, max_depth=5, max_features=sqrt, n_estimators=100, score=0.3109144650574315, total=   2.5s\n",
      "[CV] learning_rate=0.5, max_depth=5, max_features=sqrt, n_estimators=200 \n",
      "[CV]  learning_rate=0.5, max_depth=5, max_features=sqrt, n_estimators=200, score=0.3189926757010151, total=   4.9s\n",
      "[CV] learning_rate=0.5, max_depth=5, max_features=sqrt, n_estimators=200 \n",
      "[CV]  learning_rate=0.5, max_depth=5, max_features=sqrt, n_estimators=200, score=0.31685292898253514, total=   5.0s\n",
      "[CV] learning_rate=0.5, max_depth=5, max_features=sqrt, n_estimators=200 \n",
      "[CV]  learning_rate=0.5, max_depth=5, max_features=sqrt, n_estimators=200, score=0.3038215372066275, total=   4.9s\n",
      "[CV] learning_rate=0.5, max_depth=5, max_features=None, n_estimators=50 \n",
      "[CV]  learning_rate=0.5, max_depth=5, max_features=None, n_estimators=50, score=0.33863181350630467, total=   9.7s\n",
      "[CV] learning_rate=0.5, max_depth=5, max_features=None, n_estimators=50 \n",
      "[CV]  learning_rate=0.5, max_depth=5, max_features=None, n_estimators=50, score=0.3370713636320143, total=   9.3s\n",
      "[CV] learning_rate=0.5, max_depth=5, max_features=None, n_estimators=50 \n",
      "[CV]  learning_rate=0.5, max_depth=5, max_features=None, n_estimators=50, score=0.32362603430870873, total=   9.6s\n",
      "[CV] learning_rate=0.5, max_depth=5, max_features=None, n_estimators=100 \n",
      "[CV]  learning_rate=0.5, max_depth=5, max_features=None, n_estimators=100, score=0.32379837307324333, total=  18.9s\n",
      "[CV] learning_rate=0.5, max_depth=5, max_features=None, n_estimators=100 \n",
      "[CV]  learning_rate=0.5, max_depth=5, max_features=None, n_estimators=100, score=0.3224834527365874, total=  18.7s\n",
      "[CV] learning_rate=0.5, max_depth=5, max_features=None, n_estimators=100 \n",
      "[CV]  learning_rate=0.5, max_depth=5, max_features=None, n_estimators=100, score=0.31165666612632836, total=  18.8s\n",
      "[CV] learning_rate=0.5, max_depth=5, max_features=None, n_estimators=200 \n",
      "[CV]  learning_rate=0.5, max_depth=5, max_features=None, n_estimators=200, score=0.29112036776455263, total=  38.0s\n",
      "[CV] learning_rate=0.5, max_depth=5, max_features=None, n_estimators=200 \n",
      "[CV]  learning_rate=0.5, max_depth=5, max_features=None, n_estimators=200, score=0.29929599094646464, total=  37.6s\n",
      "[CV] learning_rate=0.5, max_depth=5, max_features=None, n_estimators=200 \n",
      "[CV]  learning_rate=0.5, max_depth=5, max_features=None, n_estimators=200, score=0.2834150151121636, total=  40.1s\n"
     ]
    },
    {
     "name": "stderr",
     "output_type": "stream",
     "text": [
      "[Parallel(n_jobs=1)]: Done 162 out of 162 | elapsed: 446.2min finished\n"
     ]
    },
    {
     "name": "stdout",
     "output_type": "stream",
     "text": [
      "Gradient Boosting Gridsearch\n",
      "BEST PARAMS:\n",
      "{'learning_rate': 0.1, 'max_depth': 5, 'max_features': 'auto', 'n_estimators': 200}\n",
      "\n",
      "Best R2 Score: 0.3566\n"
     ]
    },
    {
     "data": {
      "text/plain": [
       "GradientBoostingRegressor(alpha=0.9, criterion='friedman_mse', init=None,\n",
       "             learning_rate=0.1, loss='ls', max_depth=5,\n",
       "             max_features='auto', max_leaf_nodes=None,\n",
       "             min_impurity_decrease=0.0, min_impurity_split=None,\n",
       "             min_samples_leaf=1, min_samples_split=2,\n",
       "             min_weight_fraction_leaf=0.0, n_estimators=200,\n",
       "             n_iter_no_change=None, presort='auto', random_state=None,\n",
       "             subsample=1.0, tol=0.0001, validation_fraction=0.1, verbose=0,\n",
       "             warm_start=False)"
      ]
     },
     "execution_count": 18,
     "metadata": {},
     "output_type": "execute_result"
    }
   ],
   "source": [
    "grid_gradient = GradientBoostingRegressor()\n",
    "gradient_params = {\n",
    "    'learning_rate': [0.1, 0.5],\n",
    "    'n_estimators': [50, 100, 200],\n",
    "    'max_depth': [None, 2, 5],\n",
    "    'max_features': ['auto', 'sqrt', None]\n",
    "}\n",
    "gridsearch_model(grid_gradient, X_train_scaled, y_train, X_test_scaled,\n",
    "                 y_test, gradient_params, title='Gradient Boosting Gridsearch',\n",
    "                 verbose=5)"
   ]
  }
 ],
 "metadata": {
  "kernelspec": {
   "display_name": "learn-env",
   "language": "python",
   "name": "learn-env"
  },
  "language_info": {
   "codemirror_mode": {
    "name": "ipython",
    "version": 3
   },
   "file_extension": ".py",
   "mimetype": "text/x-python",
   "name": "python",
   "nbconvert_exporter": "python",
   "pygments_lexer": "ipython3",
   "version": "3.6.6"
  }
 },
 "nbformat": 4,
 "nbformat_minor": 2
}
