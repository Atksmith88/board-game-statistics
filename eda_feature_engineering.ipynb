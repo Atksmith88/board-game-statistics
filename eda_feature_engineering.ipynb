{
 "cells": [
  {
   "cell_type": "markdown",
   "metadata": {},
   "source": [
    "# EDA & Feature Engineering\n",
    "\n",
    "## Library & Data Imports"
   ]
  },
  {
   "cell_type": "code",
   "execution_count": 1,
   "metadata": {},
   "outputs": [],
   "source": [
    "import warnings; warnings.simplefilter('ignore')\n",
    "import pandas as pd\n",
    "import numpy as np\n",
    "\n",
    "import matplotlib.pyplot as plt\n",
    "import seaborn as sns\n",
    "import scipy.stats as stats\n",
    "plt.style.use('ggplot')"
   ]
  },
  {
   "cell_type": "code",
   "execution_count": 2,
   "metadata": {},
   "outputs": [
    {
     "data": {
      "text/html": [
       "<div>\n",
       "<style scoped>\n",
       "    .dataframe tbody tr th:only-of-type {\n",
       "        vertical-align: middle;\n",
       "    }\n",
       "\n",
       "    .dataframe tbody tr th {\n",
       "        vertical-align: top;\n",
       "    }\n",
       "\n",
       "    .dataframe thead th {\n",
       "        text-align: right;\n",
       "    }\n",
       "</style>\n",
       "<table border=\"1\" class=\"dataframe\">\n",
       "  <thead>\n",
       "    <tr style=\"text-align: right;\">\n",
       "      <th></th>\n",
       "      <th>name</th>\n",
       "      <th>year_published</th>\n",
       "      <th>min_players</th>\n",
       "      <th>max_players</th>\n",
       "      <th>playing_time</th>\n",
       "      <th>min_play_time</th>\n",
       "      <th>max_play_time</th>\n",
       "      <th>min_age</th>\n",
       "      <th>users_rated</th>\n",
       "      <th>average_rating</th>\n",
       "      <th>...</th>\n",
       "      <th>mechanic_storytelling</th>\n",
       "      <th>mechanic_take_that</th>\n",
       "      <th>mechanic_tile_placement</th>\n",
       "      <th>mechanic_time_track</th>\n",
       "      <th>mechanic_trading</th>\n",
       "      <th>mechanic_trick-taking</th>\n",
       "      <th>mechanic_variable_phase_order</th>\n",
       "      <th>mechanic_variable_player_powers</th>\n",
       "      <th>mechanic_voting</th>\n",
       "      <th>mechanic_worker_placement</th>\n",
       "    </tr>\n",
       "  </thead>\n",
       "  <tbody>\n",
       "    <tr>\n",
       "      <th>0</th>\n",
       "      <td>Warhammer 40,000: Heroes of Black Reach</td>\n",
       "      <td>2018.0</td>\n",
       "      <td>2.0</td>\n",
       "      <td>2.0</td>\n",
       "      <td>120.0</td>\n",
       "      <td>30.0</td>\n",
       "      <td>120.0</td>\n",
       "      <td>14.0</td>\n",
       "      <td>11</td>\n",
       "      <td>7.63636</td>\n",
       "      <td>...</td>\n",
       "      <td>0</td>\n",
       "      <td>0</td>\n",
       "      <td>0</td>\n",
       "      <td>0</td>\n",
       "      <td>0</td>\n",
       "      <td>0</td>\n",
       "      <td>0</td>\n",
       "      <td>0</td>\n",
       "      <td>0</td>\n",
       "      <td>0</td>\n",
       "    </tr>\n",
       "    <tr>\n",
       "      <th>1</th>\n",
       "      <td>The Russo-Georgian War of 2008</td>\n",
       "      <td>2010.0</td>\n",
       "      <td>1.0</td>\n",
       "      <td>2.0</td>\n",
       "      <td>90.0</td>\n",
       "      <td>90.0</td>\n",
       "      <td>90.0</td>\n",
       "      <td>12.0</td>\n",
       "      <td>9</td>\n",
       "      <td>7.22222</td>\n",
       "      <td>...</td>\n",
       "      <td>0</td>\n",
       "      <td>0</td>\n",
       "      <td>0</td>\n",
       "      <td>0</td>\n",
       "      <td>0</td>\n",
       "      <td>0</td>\n",
       "      <td>0</td>\n",
       "      <td>0</td>\n",
       "      <td>0</td>\n",
       "      <td>0</td>\n",
       "    </tr>\n",
       "    <tr>\n",
       "      <th>2</th>\n",
       "      <td>Frher oder Spter</td>\n",
       "      <td>2009.0</td>\n",
       "      <td>2.0</td>\n",
       "      <td>5.0</td>\n",
       "      <td>30.0</td>\n",
       "      <td>30.0</td>\n",
       "      <td>30.0</td>\n",
       "      <td>8.0</td>\n",
       "      <td>2</td>\n",
       "      <td>4.50000</td>\n",
       "      <td>...</td>\n",
       "      <td>0</td>\n",
       "      <td>0</td>\n",
       "      <td>0</td>\n",
       "      <td>0</td>\n",
       "      <td>0</td>\n",
       "      <td>0</td>\n",
       "      <td>0</td>\n",
       "      <td>0</td>\n",
       "      <td>0</td>\n",
       "      <td>0</td>\n",
       "    </tr>\n",
       "    <tr>\n",
       "      <th>5</th>\n",
       "      <td>Wings Over France</td>\n",
       "      <td>1992.0</td>\n",
       "      <td>1.0</td>\n",
       "      <td>1.0</td>\n",
       "      <td>60.0</td>\n",
       "      <td>60.0</td>\n",
       "      <td>60.0</td>\n",
       "      <td>10.0</td>\n",
       "      <td>50</td>\n",
       "      <td>7.50000</td>\n",
       "      <td>...</td>\n",
       "      <td>0</td>\n",
       "      <td>0</td>\n",
       "      <td>0</td>\n",
       "      <td>0</td>\n",
       "      <td>0</td>\n",
       "      <td>0</td>\n",
       "      <td>0</td>\n",
       "      <td>0</td>\n",
       "      <td>0</td>\n",
       "      <td>0</td>\n",
       "    </tr>\n",
       "    <tr>\n",
       "      <th>9</th>\n",
       "      <td>Mothra vs. Godzilla</td>\n",
       "      <td>1982.0</td>\n",
       "      <td>2.0</td>\n",
       "      <td>2.0</td>\n",
       "      <td>90.0</td>\n",
       "      <td>90.0</td>\n",
       "      <td>90.0</td>\n",
       "      <td>10.0</td>\n",
       "      <td>7</td>\n",
       "      <td>6.98143</td>\n",
       "      <td>...</td>\n",
       "      <td>0</td>\n",
       "      <td>0</td>\n",
       "      <td>0</td>\n",
       "      <td>0</td>\n",
       "      <td>0</td>\n",
       "      <td>0</td>\n",
       "      <td>0</td>\n",
       "      <td>0</td>\n",
       "      <td>0</td>\n",
       "      <td>0</td>\n",
       "    </tr>\n",
       "  </tbody>\n",
       "</table>\n",
       "<p>5 rows × 148 columns</p>\n",
       "</div>"
      ],
      "text/plain": [
       "                                      name  year_published  min_players  \\\n",
       "0  Warhammer 40,000: Heroes of Black Reach          2018.0          2.0   \n",
       "1           The Russo-Georgian War of 2008          2010.0          1.0   \n",
       "2                         Frher oder Spter          2009.0          2.0   \n",
       "5                        Wings Over France          1992.0          1.0   \n",
       "9                      Mothra vs. Godzilla          1982.0          2.0   \n",
       "\n",
       "   max_players  playing_time  min_play_time  max_play_time  min_age  \\\n",
       "0          2.0         120.0           30.0          120.0     14.0   \n",
       "1          2.0          90.0           90.0           90.0     12.0   \n",
       "2          5.0          30.0           30.0           30.0      8.0   \n",
       "5          1.0          60.0           60.0           60.0     10.0   \n",
       "9          2.0          90.0           90.0           90.0     10.0   \n",
       "\n",
       "   users_rated  average_rating  ...  mechanic_storytelling  \\\n",
       "0           11         7.63636  ...                      0   \n",
       "1            9         7.22222  ...                      0   \n",
       "2            2         4.50000  ...                      0   \n",
       "5           50         7.50000  ...                      0   \n",
       "9            7         6.98143  ...                      0   \n",
       "\n",
       "   mechanic_take_that  mechanic_tile_placement  mechanic_time_track  \\\n",
       "0                   0                        0                    0   \n",
       "1                   0                        0                    0   \n",
       "2                   0                        0                    0   \n",
       "5                   0                        0                    0   \n",
       "9                   0                        0                    0   \n",
       "\n",
       "   mechanic_trading  mechanic_trick-taking  mechanic_variable_phase_order  \\\n",
       "0                 0                      0                              0   \n",
       "1                 0                      0                              0   \n",
       "2                 0                      0                              0   \n",
       "5                 0                      0                              0   \n",
       "9                 0                      0                              0   \n",
       "\n",
       "   mechanic_variable_player_powers  mechanic_voting  mechanic_worker_placement  \n",
       "0                                0                0                          0  \n",
       "1                                0                0                          0  \n",
       "2                                0                0                          0  \n",
       "5                                0                0                          0  \n",
       "9                                0                0                          0  \n",
       "\n",
       "[5 rows x 148 columns]"
      ]
     },
     "execution_count": 2,
     "metadata": {},
     "output_type": "execute_result"
    }
   ],
   "source": [
    "data = pd.read_csv('final_data.csv', index_col=0)\n",
    "data.head()"
   ]
  },
  {
   "cell_type": "markdown",
   "metadata": {},
   "source": [
    "To start with, in an attempt to reduce some of my dimensionality, as well as reduce some of the extraneous categories and possibly mechanics, I'm going to go through and combine all of the War-related categories into Wargames, and investigate other possible combinations of both categories and mechanics."
   ]
  },
  {
   "cell_type": "code",
   "execution_count": 3,
   "metadata": {},
   "outputs": [
    {
     "data": {
      "text/plain": [
       "['category_american_civil_war',\n",
       " 'category_american_indian_wars',\n",
       " 'category_american_revolutionary_war',\n",
       " 'category_civil_war',\n",
       " 'category_korean_war',\n",
       " 'category_modern_warfare',\n",
       " 'category_vietnam_war',\n",
       " 'category_wargame',\n",
       " 'category_world_war_i',\n",
       " 'category_world_war_ii']"
      ]
     },
     "execution_count": 3,
     "metadata": {},
     "output_type": "execute_result"
    }
   ],
   "source": [
    "war_cats = [col for col in data.columns if 'war' in col]\n",
    "war_cats"
   ]
  },
  {
   "cell_type": "code",
   "execution_count": 4,
   "metadata": {},
   "outputs": [],
   "source": [
    "#As Modern Warfare could be categorically different from a Wargame, I want to remove it from the combination.\n",
    "war_cats.remove('category_modern_warfare')"
   ]
  },
  {
   "cell_type": "code",
   "execution_count": 5,
   "metadata": {},
   "outputs": [],
   "source": [
    "def category_combine(df, columns=None, final_column=None):\n",
    "    for col in columns:\n",
    "        if col != final_column:\n",
    "            for i, row in df.iterrows():\n",
    "                if df.at[i, col] == 1:\n",
    "                    df.at[i, final_column] = 1\n",
    "            df.drop(columns=col, inplace=True)"
   ]
  },
  {
   "cell_type": "code",
   "execution_count": 6,
   "metadata": {},
   "outputs": [],
   "source": [
    "category_combine(data, columns=war_cats, final_column='category_wargame')"
   ]
  },
  {
   "cell_type": "code",
   "execution_count": 7,
   "metadata": {},
   "outputs": [],
   "source": [
    "#Upon further inspection of the dataset and BoardGameGeek, it looks like playing_time\n",
    "#is always equal to max_play_time, so I will drop playing_time. I'm also dropping total_weights,\n",
    "#and will fill the blank average weights with the best option of mean, median, or mode.\n",
    "data.drop(columns=['playing_time', 'total_weights'], inplace=True)"
   ]
  },
  {
   "cell_type": "code",
   "execution_count": 8,
   "metadata": {},
   "outputs": [
    {
     "name": "stdout",
     "output_type": "stream",
     "text": [
      "Mean: 1.91252641189474\n",
      "Median: 2.0\n",
      "Mode: 0    1.0\n",
      "dtype: float64\n"
     ]
    }
   ],
   "source": [
    "data.average_weight.replace(0, np.nan, inplace=True)\n",
    "print('Mean:', data.average_weight.mean())\n",
    "print('Median:', data.average_weight.median())\n",
    "print('Mode:', data.average_weight.mode())"
   ]
  },
  {
   "cell_type": "code",
   "execution_count": 9,
   "metadata": {},
   "outputs": [],
   "source": [
    "data.average_weight.fillna(data.average_weight.mean(), inplace=True)"
   ]
  },
  {
   "cell_type": "code",
   "execution_count": null,
   "metadata": {},
   "outputs": [],
   "source": []
  }
 ],
 "metadata": {
  "kernelspec": {
   "display_name": "learn-env",
   "language": "python",
   "name": "learn-env"
  },
  "language_info": {
   "codemirror_mode": {
    "name": "ipython",
    "version": 3
   },
   "file_extension": ".py",
   "mimetype": "text/x-python",
   "name": "python",
   "nbconvert_exporter": "python",
   "pygments_lexer": "ipython3",
   "version": "3.6.6"
  }
 },
 "nbformat": 4,
 "nbformat_minor": 2
}
